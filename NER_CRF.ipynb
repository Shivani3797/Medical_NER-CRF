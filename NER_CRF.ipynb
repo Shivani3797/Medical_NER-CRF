{
  "nbformat": 4,
  "nbformat_minor": 0,
  "metadata": {
    "colab": {
      "provenance": [],
      "toc_visible": true,
      "gpuType": "T4"
    },
    "kernelspec": {
      "name": "python3",
      "display_name": "Python 3"
    },
    "language_info": {
      "name": "python"
    },
    "accelerator": "GPU"
  },
  "cells": [
    {
      "cell_type": "markdown",
      "source": [
        "# **Problem Statement**\n",
        "\n",
        "> \"BeHealthy\" is a health-tech company and has a web platform that allows doctors to list their services and manage patient interactions and provides services for patients such as booking interactions with doctors and ordering medicines online.\n",
        "Here, doctors can easily organise appointments, track past medical records and provide e-prescriptions.\n",
        "So, companies like \"BeHealthy\" are providing medical services, prescriptions and online consultations and generating huge data day by day.\n",
        " > The following snippet of medical data may be generated when a doctor is writing notes to his/her patient or as a review of a therapy that he or she has done.\n",
        "\"The patient was a 62-year-old man with squamous cell lung cancer, which was first successfully treated by a combination of radiation therapy and chemotherapy.\"\n",
        " > As we can see in this text, a person with a non-medical background cannot understand the various medical terms.\n",
        "We have taken a simple sentence from a medical data set to understand the problem and where one can understand the terms 'cancer' and 'chemotherapy'.\n",
        " > We have been given such a data set in which a lot of text is written related to the medical domain.\n",
        "There are a lot of diseases that can be mentioned in the entire dataset and their related treatments are also mentioned implicitly in the text, which we saw in the aforementioned example that the disease mentioned is cancer and its treatment can be identified as chemotherapy using the sentence.\n",
        "However, note that it is not explicitly mentioned in the dataset about the diseases and their treatment, but we can build an algorithm to map the diseases and their respective treatment.\n",
        " > The train dataset is used to train the Continuous Random Field (CRF) model, and the test dataset is used to evaluate the built model."
      ],
      "metadata": {
        "id": "WSndt_qSrvvs"
      }
    },
    {
      "cell_type": "markdown",
      "source": [
        "# **Setting up Google Collab**"
      ],
      "metadata": {
        "id": "hg91T1IzxojU"
      }
    },
    {
      "cell_type": "code",
      "source": [
        "# Setting up Google Colab for usage. Please disable if running locally.\n",
        "import pathlib\n",
        "import os\n"
      ],
      "metadata": {
        "id": "Va-y-6FCsonY"
      },
      "execution_count": 1,
      "outputs": []
    },
    {
      "cell_type": "code",
      "source": [
        "from google.colab import drive\n",
        "drive.mount('/content/drive')"
      ],
      "metadata": {
        "colab": {
          "base_uri": "https://localhost:8080/"
        },
        "id": "GkFNbPaNwCFL",
        "outputId": "ffc69ef2-fc0c-4cfa-92a2-f471e1600eb5"
      },
      "execution_count": 3,
      "outputs": [
        {
          "output_type": "stream",
          "name": "stdout",
          "text": [
            "Mounted at /content/drive\n"
          ]
        }
      ]
    },
    {
      "cell_type": "code",
      "source": [
        "base_dir=pathlib.Path('/content/drive/MyDrive/assignment')\n",
        "os.chdir(str(base_dir))"
      ],
      "metadata": {
        "id": "iKqyohhrvlxW"
      },
      "execution_count": 4,
      "outputs": []
    },
    {
      "cell_type": "code",
      "source": [
        "!ls"
      ],
      "metadata": {
        "colab": {
          "base_uri": "https://localhost:8080/"
        },
        "id": "KE80PwO-wtua",
        "outputId": "0ac67105-eb2a-4510-e091-bf47ea34788e"
      },
      "execution_count": 5,
      "outputs": [
        {
          "output_type": "stream",
          "name": "stdout",
          "text": [
            "test_label  test_sent  train_label  train_sent\n"
          ]
        }
      ]
    },
    {
      "cell_type": "code",
      "source": [
        "# Installing and importing relevant libraries\n",
        "!pip install pycrf\n",
        "!pip install sklearn-crfsuite\n",
        "\n",
        "import spacy\n",
        "import sklearn_crfsuite\n",
        "from sklearn_crfsuite import metrics\n",
        "import pandas as pd\n",
        "\n",
        "model = spacy.load(\"en_core_web_sm\")"
      ],
      "metadata": {
        "colab": {
          "base_uri": "https://localhost:8080/"
        },
        "id": "mI5JkO8Gw9D3",
        "outputId": "42eb7a91-a40f-4299-e787-e77b4c329e2b"
      },
      "execution_count": 6,
      "outputs": [
        {
          "output_type": "stream",
          "name": "stdout",
          "text": [
            "Collecting pycrf\n",
            "  Downloading pycrf-0.0.1.tar.gz (1.1 kB)\n",
            "  Preparing metadata (setup.py) ... \u001b[?25l\u001b[?25hdone\n",
            "Building wheels for collected packages: pycrf\n",
            "  Building wheel for pycrf (setup.py) ... \u001b[?25l\u001b[?25hdone\n",
            "  Created wheel for pycrf: filename=pycrf-0.0.1-py3-none-any.whl size=1871 sha256=77991ee0d083d09acc929f1359b093c5a78302cd787546a0e929b8f02c14360a\n",
            "  Stored in directory: /root/.cache/pip/wheels/fd/3a/fb/e4d15c9c2b169f43811b23a863ee9717ff3eda5d2301789043\n",
            "Successfully built pycrf\n",
            "Installing collected packages: pycrf\n",
            "Successfully installed pycrf-0.0.1\n",
            "Collecting sklearn-crfsuite\n",
            "  Downloading sklearn_crfsuite-0.5.0-py2.py3-none-any.whl.metadata (4.9 kB)\n",
            "Collecting python-crfsuite>=0.9.7 (from sklearn-crfsuite)\n",
            "  Downloading python_crfsuite-0.9.11-cp310-cp310-manylinux_2_17_x86_64.manylinux2014_x86_64.whl.metadata (4.3 kB)\n",
            "Requirement already satisfied: scikit-learn>=0.24.0 in /usr/local/lib/python3.10/dist-packages (from sklearn-crfsuite) (1.5.2)\n",
            "Requirement already satisfied: tabulate>=0.4.2 in /usr/local/lib/python3.10/dist-packages (from sklearn-crfsuite) (0.9.0)\n",
            "Requirement already satisfied: tqdm>=2.0 in /usr/local/lib/python3.10/dist-packages (from sklearn-crfsuite) (4.66.6)\n",
            "Requirement already satisfied: numpy>=1.19.5 in /usr/local/lib/python3.10/dist-packages (from scikit-learn>=0.24.0->sklearn-crfsuite) (1.26.4)\n",
            "Requirement already satisfied: scipy>=1.6.0 in /usr/local/lib/python3.10/dist-packages (from scikit-learn>=0.24.0->sklearn-crfsuite) (1.13.1)\n",
            "Requirement already satisfied: joblib>=1.2.0 in /usr/local/lib/python3.10/dist-packages (from scikit-learn>=0.24.0->sklearn-crfsuite) (1.4.2)\n",
            "Requirement already satisfied: threadpoolctl>=3.1.0 in /usr/local/lib/python3.10/dist-packages (from scikit-learn>=0.24.0->sklearn-crfsuite) (3.5.0)\n",
            "Downloading sklearn_crfsuite-0.5.0-py2.py3-none-any.whl (10 kB)\n",
            "Downloading python_crfsuite-0.9.11-cp310-cp310-manylinux_2_17_x86_64.manylinux2014_x86_64.whl (1.2 MB)\n",
            "\u001b[2K   \u001b[90m━━━━━━━━━━━━━━━━━━━━━━━━━━━━━━━━━━━━━━━━\u001b[0m \u001b[32m1.2/1.2 MB\u001b[0m \u001b[31m55.0 MB/s\u001b[0m eta \u001b[36m0:00:00\u001b[0m\n",
            "\u001b[?25hInstalling collected packages: python-crfsuite, sklearn-crfsuite\n",
            "Successfully installed python-crfsuite-0.9.11 sklearn-crfsuite-0.5.0\n"
          ]
        }
      ]
    },
    {
      "cell_type": "markdown",
      "source": [
        "# **Data Pre-Processing**"
      ],
      "metadata": {
        "id": "C5YEeLuzxVy6"
      }
    },
    {
      "cell_type": "code",
      "source": [
        "# Reading the train and test sentences and labels\n",
        "with open('train_sent', 'r') as train_sent_file:\n",
        "  train_words = train_sent_file.readlines()\n",
        "\n",
        "with open('train_label','r') as train_labels_file:\n",
        "  train_labels_by_word = train_labels_file.readlines()\n",
        "\n",
        "with open('test_sent', 'r') as test_sent_file:\n",
        "  test_words = test_sent_file.readlines()\n",
        "\n",
        "with open('test_label', 'r') as test_labels_file:\n",
        "  test_labels_by_word = test_labels_file.readlines()"
      ],
      "metadata": {
        "id": "fgn4K5r8xCtd"
      },
      "execution_count": 7,
      "outputs": []
    },
    {
      "cell_type": "code",
      "source": [
        "# Sanity check to see that the number of tokens and no. of corresponding labels match.\n",
        "print(\"Count of tokens in training set\\n\",\"No. of words: \",len(train_words),\"\\nNo. of labels: \",len(train_labels_by_word))\n",
        "print(\"\\n\\nCount of tokens in test set\\n\",\"No. of words: \",len(test_words),\"\\nNo. of labels: \",len(test_labels_by_word))"
      ],
      "metadata": {
        "colab": {
          "base_uri": "https://localhost:8080/"
        },
        "id": "m6p9FlRcxTJb",
        "outputId": "5e8afe40-35d7-40fc-9421-232f423f030d"
      },
      "execution_count": 8,
      "outputs": [
        {
          "output_type": "stream",
          "name": "stdout",
          "text": [
            "Count of tokens in training set\n",
            " No. of words:  48501 \n",
            "No. of labels:  48501\n",
            "\n",
            "\n",
            "Count of tokens in test set\n",
            " No. of words:  19674 \n",
            "No. of labels:  19674\n"
          ]
        }
      ]
    },
    {
      "cell_type": "code",
      "source": [
        "# Function to combine tokens belonging to the same sentence. Sentences are separated by \"\\n\" in the dataset.\n",
        "def convert_to_sentences(dataset):\n",
        "    sent_list = []\n",
        "    sent = \"\"\n",
        "    for entity in dataset:\n",
        "        if entity != '\\n':\n",
        "            sent = sent + entity[:-1] + \" \"       # Adding word/label to current sentence / sequence of labels\n",
        "        else:\n",
        "            sent_list.append(sent[:-1])           # Getting rid of the space added after the last entity.\n",
        "            sent = \"\"\n",
        "    return sent_list"
      ],
      "metadata": {
        "id": "pWlLDHP0y8zA"
      },
      "execution_count": 9,
      "outputs": []
    },
    {
      "cell_type": "code",
      "source": [
        "# Converting tokens to sentences and individual labels to sequences of corresponding labels.\n",
        "train_sentences = convert_to_sentences(train_words)\n",
        "train_labels = convert_to_sentences(train_labels_by_word)\n",
        "test_sentences = convert_to_sentences(test_words)\n",
        "test_labels = convert_to_sentences(test_labels_by_word)"
      ],
      "metadata": {
        "id": "SRwnM2yR0hHG"
      },
      "execution_count": 10,
      "outputs": []
    },
    {
      "cell_type": "code",
      "source": [
        "print(\"First five training sentences and their labels:\\n\")\n",
        "for i in range(5):\n",
        "    print(train_sentences[i],\"\\n\",train_labels[i],\"\\n\")"
      ],
      "metadata": {
        "colab": {
          "base_uri": "https://localhost:8080/"
        },
        "id": "ATHjALAQ2Ydd",
        "outputId": "12e443e4-00e3-4e68-c655-1cc35a3e24f7"
      },
      "execution_count": 11,
      "outputs": [
        {
          "output_type": "stream",
          "name": "stdout",
          "text": [
            "First five training sentences and their labels:\n",
            "\n",
            "All live births > or = 23 weeks at the University of Vermont in 1995 ( n = 2395 ) were retrospectively analyzed for delivery route , indication for cesarean , gestational age , parity , and practice group ( to reflect risk status ) \n",
            " O O O O O O O O O O O O O O O O O O O O O O O O O O O O O O O O O O O O O O O O O O O O O \n",
            "\n",
            "The total cesarean rate was 14.4 % ( 344 of 2395 ) , and the primary rate was 11.4 % ( 244 of 2144 ) \n",
            " O O O O O O O O O O O O O O O O O O O O O O O O O \n",
            "\n",
            "Abnormal presentation was the most common indication ( 25.6 % , 88 of 344 ) \n",
            " O O O O O O O O O O O O O O O \n",
            "\n",
            "The `` corrected '' cesarean rate ( maternal-fetal medicine and transported patients excluded ) was 12.4 % ( 273 of 2194 ) , and the `` corrected '' primary rate was 9.6 % ( 190 of 1975 ) \n",
            " O O O O O O O O O O O O O O O O O O O O O O O O O O O O O O O O O O O O O O \n",
            "\n",
            "Arrest of dilation was the most common indication in both `` corrected '' subgroups ( 23.4 and 24.6 % , respectively ) \n",
            " O O O O O O O O O O O O O O O O O O O O O O \n",
            "\n"
          ]
        }
      ]
    },
    {
      "cell_type": "code",
      "source": [
        "#Count the number of sentences in the processed train and test dataset\n",
        "\n",
        "print(\"No. of sentences in training set: \",len(train_sentences))\n",
        "print(\"No. of sentences in test set: \",len(test_sentences))"
      ],
      "metadata": {
        "colab": {
          "base_uri": "https://localhost:8080/"
        },
        "id": "d1Jyw_Pp330U",
        "outputId": "42d6ce9c-98c4-417a-8e90-948237750dc9"
      },
      "execution_count": 12,
      "outputs": [
        {
          "output_type": "stream",
          "name": "stdout",
          "text": [
            "No. of sentences in training set:  2599\n",
            "No. of sentences in test set:  1056\n"
          ]
        }
      ]
    },
    {
      "cell_type": "code",
      "source": [
        "#Count the number of lines of labels in the processed train and test dataset.\n",
        "\n",
        "print(\"No. of lines of labels in training set: \",len(train_labels))\n",
        "print(\"No. of lines of labels in test set: \",len(test_labels))"
      ],
      "metadata": {
        "colab": {
          "base_uri": "https://localhost:8080/"
        },
        "id": "GI-o5cwd4BQo",
        "outputId": "80c774d3-abd6-423f-8ea6-829ddb113f9f"
      },
      "execution_count": 13,
      "outputs": [
        {
          "output_type": "stream",
          "name": "stdout",
          "text": [
            "No. of lines of labels in training set:  2599\n",
            "No. of lines of labels in test set:  1056\n"
          ]
        }
      ]
    },
    {
      "cell_type": "markdown",
      "source": [
        "# **Exploratory Data Analysis**"
      ],
      "metadata": {
        "id": "rIvb27L54TGZ"
      }
    },
    {
      "cell_type": "markdown",
      "source": [
        "Extract tokens which have NOUN or PROPN as their PoS tag and find their frequency"
      ],
      "metadata": {
        "id": "GX65oSbJ4zmz"
      }
    },
    {
      "cell_type": "code",
      "source": [
        "# Creating a combined dataset from training and test sentences\n",
        "combined_sentences = train_sentences + test_sentences\n",
        "print(\"No. of sentences in combined dataset: \",len(combined_sentences))"
      ],
      "metadata": {
        "colab": {
          "base_uri": "https://localhost:8080/"
        },
        "id": "lDJQvqfn4K62",
        "outputId": "b6d752b7-9da6-4891-8bbc-1b20df4601b3"
      },
      "execution_count": 14,
      "outputs": [
        {
          "output_type": "stream",
          "name": "stdout",
          "text": [
            "No. of sentences in combined dataset:  3655\n"
          ]
        }
      ]
    },
    {
      "cell_type": "code",
      "source": [
        "# Creating a list of tokens which have PoS tag of 'NOUN' or 'PROPN'\n",
        "combined_tokens = []\n",
        "for sentence in combined_sentences:\n",
        "    doc = model(sentence)\n",
        "    for token in doc:\n",
        "        if token.pos_ == 'NOUN' or token.pos_ == 'PROPN':\n",
        "            combined_tokens.append(token.text)\n",
        "print(\"No. of tokens in combined dataset: \",len(combined_tokens))"
      ],
      "metadata": {
        "colab": {
          "base_uri": "https://localhost:8080/"
        },
        "id": "_vyNMQms5MQm",
        "outputId": "ec7f89e0-b683-4f61-b5fb-317916c697ef"
      },
      "execution_count": 15,
      "outputs": [
        {
          "output_type": "stream",
          "name": "stdout",
          "text": [
            "No. of tokens in combined dataset:  24373\n"
          ]
        }
      ]
    },
    {
      "cell_type": "markdown",
      "source": [
        "Top 20 most common tokens with NOUN or PROPN PoS tags"
      ],
      "metadata": {
        "id": "xNZ6JMWd6F6P"
      }
    },
    {
      "cell_type": "code",
      "source": [
        "# Import Counter from the collections module\n",
        "from collections import Counter\n",
        "\n",
        "token_counts = Counter(combined_tokens)\n",
        "\n",
        "# Get the top 20 most common tokens\n",
        "top_20_tokens = token_counts.most_common(20)\n",
        "\n",
        "# Print the top 20 tokens\n",
        "print(\"Top 20 most common tokens (NOUN/PROPN):\")\n",
        "for token, count in top_20_tokens:\n",
        "    print(f\"{token}: {count}\")"
      ],
      "metadata": {
        "colab": {
          "base_uri": "https://localhost:8080/"
        },
        "id": "0HHtjTnw6NZt",
        "outputId": "ea933b05-56c2-43a0-a93c-2db4c9906c47"
      },
      "execution_count": 16,
      "outputs": [
        {
          "output_type": "stream",
          "name": "stdout",
          "text": [
            "Top 20 most common tokens (NOUN/PROPN):\n",
            "patients: 492\n",
            "treatment: 281\n",
            "%: 247\n",
            "cancer: 200\n",
            "therapy: 175\n",
            "study: 154\n",
            "disease: 142\n",
            "cell: 140\n",
            "lung: 116\n",
            "group: 94\n",
            "chemotherapy: 88\n",
            "gene: 87\n",
            "effects: 85\n",
            "results: 79\n",
            "women: 77\n",
            "use: 74\n",
            "TO_SEE: 74\n",
            "risk: 71\n",
            "cases: 71\n",
            "surgery: 71\n"
          ]
        }
      ]
    },
    {
      "cell_type": "code",
      "source": [
        "# Analysis of PoS tags - Independent assignment for words vs Contextual assignment in a sentence.\n",
        "sentence = train_sentences[1]\n",
        "sent_list = sentence.split()      # Splitting the sentence into its constituent words.\n",
        "position = 2                      # Choosing position of word within sentence. Index starts at 0.\n",
        "\n",
        "word = sent_list[position]        # Extracting word for PoS tag analysis.\n",
        "\n",
        "print(sentence)"
      ],
      "metadata": {
        "colab": {
          "base_uri": "https://localhost:8080/"
        },
        "id": "0dBPjuOg6e96",
        "outputId": "2cf47869-1cff-4082-dc28-d4e16e09dd6c"
      },
      "execution_count": 17,
      "outputs": [
        {
          "output_type": "stream",
          "name": "stdout",
          "text": [
            "The total cesarean rate was 14.4 % ( 344 of 2395 ) , and the primary rate was 11.4 % ( 244 of 2144 )\n"
          ]
        }
      ]
    },
    {
      "cell_type": "code",
      "source": [
        "# Analysis of PoS tags: Independent vs Contextual assignment\n",
        "sentence = train_sentences[1]  # Select a sentence from training data\n",
        "position = 2  # Index of the word in the sentence (starting from 0)\n",
        "\n",
        "# Extract the word at the specified position\n",
        "word = sentence.split()[position]\n",
        "\n",
        "# Display the original sentence\n",
        "print(\"Sentence:\", sentence)\n",
        "\n",
        "# Independent PoS tag assignment (word analyzed in isolation)\n",
        "independent_pos = model(word)[0].pos_\n",
        "print(f\"\\nIndependent PoS tag for '{word}': {independent_pos}\")\n",
        "\n",
        "# Contextual PoS tag assignment (analyzed within sentence)\n",
        "print(\"\\nContextual PoS tags for all words in the sentence:\")\n",
        "for token in model(sentence):\n",
        "    print(f\"{token.text}: {token.pos_}\")\n",
        "\n",
        "# Contextual PoS tag for the word at the specified position\n",
        "contextual_pos = None\n",
        "for idx, token in enumerate(model(sentence)):\n",
        "    if idx == position:\n",
        "        contextual_pos = token.pos_\n",
        "        break\n",
        "\n",
        "print(f\"\\nContextual PoS tag for '{word}' at position {position}: {contextual_pos}\")"
      ],
      "metadata": {
        "colab": {
          "base_uri": "https://localhost:8080/"
        },
        "id": "0ONNb08uA8zt",
        "outputId": "471c479e-1104-4dfd-c08d-e2b8a869b171"
      },
      "execution_count": 18,
      "outputs": [
        {
          "output_type": "stream",
          "name": "stdout",
          "text": [
            "Sentence: The total cesarean rate was 14.4 % ( 344 of 2395 ) , and the primary rate was 11.4 % ( 244 of 2144 )\n",
            "\n",
            "Independent PoS tag for 'cesarean': VERB\n",
            "\n",
            "Contextual PoS tags for all words in the sentence:\n",
            "The: DET\n",
            "total: ADJ\n",
            "cesarean: ADJ\n",
            "rate: NOUN\n",
            "was: AUX\n",
            "14.4: NUM\n",
            "%: NOUN\n",
            "(: PUNCT\n",
            "344: NUM\n",
            "of: ADP\n",
            "2395: NUM\n",
            "): PUNCT\n",
            ",: PUNCT\n",
            "and: CCONJ\n",
            "the: DET\n",
            "primary: ADJ\n",
            "rate: NOUN\n",
            "was: AUX\n",
            "11.4: NUM\n",
            "%: NOUN\n",
            "(: PUNCT\n",
            "244: NUM\n",
            "of: ADP\n",
            "2144: NUM\n",
            "): PUNCT\n",
            "\n",
            "Contextual PoS tag for 'cesarean' at position 2: ADJ\n"
          ]
        }
      ]
    },
    {
      "cell_type": "markdown",
      "source": [
        "As we can see in the analysis above, the PoS tag of the word \"cesarean\" is not captured correctly if the word is considered individually. However, if the word is considered as a part of the sentence, then it is captured correctly. Defining a function below to execute this."
      ],
      "metadata": {
        "id": "IKWJhyVtKbqI"
      }
    },
    {
      "cell_type": "code",
      "source": [
        "# Function to obtain contextual PoS tagger.\n",
        "def contextual_pos_tagger(sent_list,position):\n",
        "    '''Obtaining PoS tag for individual word with sentence context in-tact.\n",
        "       If the PoS tag is obtained for a word individually, it may not capture the context of use in the sentence and may assign the incorrect PoS tag.'''\n",
        "\n",
        "    sentence = \" \".join(sent_list)          # Sentence needs to be in string format to process it with spacy model. List of words won't work.\n",
        "    posit = 0                               # Initialising variable to record position of word in joined sentence to compare with the position of the word under considertion.\n",
        "    for token in model(sentence):\n",
        "        postag = token.pos_\n",
        "        if (token.text == word) and (posit == position):\n",
        "            break\n",
        "        posit += 1\n",
        "    return postag"
      ],
      "metadata": {
        "id": "Zpjb4DUvKsxo"
      },
      "execution_count": 19,
      "outputs": []
    },
    {
      "cell_type": "code",
      "source": [
        "# Define the features for a specific word in a sentence\n",
        "def get_features_for_one_word(sent_list, position):\n",
        "    word = sent_list[position]\n",
        "\n",
        "    # Features for the current word\n",
        "    features = {\n",
        "        'word.lower': word.lower(),                          # Word in lowercase\n",
        "        'word.postag': contextual_pos_tagger(sent_list, position),  # PoS tag of the current word\n",
        "        'word[-3:]': word[-3:],                              # Last three characters\n",
        "        'word[-2:]': word[-2:],                              # Last two characters\n",
        "        'word.isupper': word.isupper(),                      # Is the word in all uppercase?\n",
        "        'word.isdigit': word.isdigit(),                      # Is the word a number?\n",
        "        'word.starts_with_capital': word[0].isupper()        # Does the word start with a capital letter?\n",
        "    }\n",
        "\n",
        "    # Features for the previous word\n",
        "    if position > 0:\n",
        "        prev_word = sent_list[position - 1]\n",
        "        features.update({\n",
        "            'prev_word.lower': prev_word.lower(),\n",
        "            'prev_word.postag': contextual_pos_tagger(sent_list, position - 1),\n",
        "            'prev_word.isupper': prev_word.isupper(),\n",
        "            'prev_word.isdigit': prev_word.isdigit(),\n",
        "            'prev_word.starts_with_capital': prev_word[0].isupper()\n",
        "        })\n",
        "    else:\n",
        "        features['is_begin'] = True  # Indicates the beginning of a sentence\n",
        "\n",
        "    # Features for the end of the sentence\n",
        "    if position == len(sent_list) - 1:\n",
        "        features['is_end'] = True  # Indicates the end of a sentence\n",
        "\n",
        "    return features"
      ],
      "metadata": {
        "id": "9EoMzmcVKtto"
      },
      "execution_count": 20,
      "outputs": []
    },
    {
      "cell_type": "markdown",
      "source": [
        "# **Extract Features**"
      ],
      "metadata": {
        "id": "cn8OTC-cgb7Q"
      }
    },
    {
      "cell_type": "code",
      "source": [
        "# Write a code to get features for a sentence.\n",
        "def getFeaturesForOneSentence(sentence):\n",
        "  sentence_list = sentence.split()\n",
        "  return [get_features_for_one_word(sentence_list, position) for position in range(len(sentence_list))]"
      ],
      "metadata": {
        "id": "XyRnKQZ0gluX"
      },
      "execution_count": 21,
      "outputs": []
    },
    {
      "cell_type": "code",
      "source": [
        "# Checking feature extraction\n",
        "example_sentence = train_sentences[5]\n",
        "print(example_sentence)\n",
        "\n",
        "features = getFeaturesForOneSentence(example_sentence)\n",
        "features[0]"
      ],
      "metadata": {
        "colab": {
          "base_uri": "https://localhost:8080/"
        },
        "id": "3TsJw82Lh95G",
        "outputId": "d7f6cf26-c47b-439e-f80c-c8c18384c9ad"
      },
      "execution_count": 22,
      "outputs": [
        {
          "output_type": "stream",
          "name": "stdout",
          "text": [
            "Cesarean rates at tertiary care hospitals should be compared with rates at community hospitals only after correcting for dissimilar patient groups or gestational age\n"
          ]
        },
        {
          "output_type": "execute_result",
          "data": {
            "text/plain": [
              "{'word.lower': 'cesarean',\n",
              " 'word.postag': 'NOUN',\n",
              " 'word[-3:]': 'ean',\n",
              " 'word[-2:]': 'an',\n",
              " 'word.isupper': False,\n",
              " 'word.isdigit': False,\n",
              " 'word.starts_with_capital': True,\n",
              " 'is_begin': True}"
            ]
          },
          "metadata": {},
          "execution_count": 22
        }
      ]
    },
    {
      "cell_type": "code",
      "source": [
        "features[4]"
      ],
      "metadata": {
        "colab": {
          "base_uri": "https://localhost:8080/"
        },
        "id": "3Q1AL6E1iHyA",
        "outputId": "a95a2342-e292-4d10-cda9-b3110ae203c2"
      },
      "execution_count": 23,
      "outputs": [
        {
          "output_type": "execute_result",
          "data": {
            "text/plain": [
              "{'word.lower': 'care',\n",
              " 'word.postag': 'NOUN',\n",
              " 'word[-3:]': 'are',\n",
              " 'word[-2:]': 're',\n",
              " 'word.isupper': False,\n",
              " 'word.isdigit': False,\n",
              " 'word.starts_with_capital': False,\n",
              " 'prev_word.lower': 'tertiary',\n",
              " 'prev_word.postag': 'NOUN',\n",
              " 'prev_word.isupper': False,\n",
              " 'prev_word.isdigit': False,\n",
              " 'prev_word.starts_with_capital': False}"
            ]
          },
          "metadata": {},
          "execution_count": 23
        }
      ]
    },
    {
      "cell_type": "code",
      "source": [
        "# Write a code to get the labels for a sentence.\n",
        "def getLabelsInListForOneSentence(labels):\n",
        "  return labels.split()"
      ],
      "metadata": {
        "id": "Cut_wa9djKn7"
      },
      "execution_count": 24,
      "outputs": []
    },
    {
      "cell_type": "code",
      "source": [
        "# Checking label extraction\n",
        "example_labels = getLabelsInListForOneSentence(train_labels[5])\n",
        "print(example_labels)"
      ],
      "metadata": {
        "colab": {
          "base_uri": "https://localhost:8080/"
        },
        "id": "1xjVUnaDjYzs",
        "outputId": "af974f70-edfa-420e-fa54-69814c0a808c"
      },
      "execution_count": 25,
      "outputs": [
        {
          "output_type": "stream",
          "name": "stdout",
          "text": [
            "['O', 'O', 'O', 'O', 'O', 'O', 'O', 'O', 'O', 'O', 'O', 'O', 'O', 'O', 'O', 'O', 'O', 'O', 'O', 'O', 'O', 'O', 'O', 'O']\n"
          ]
        }
      ]
    },
    {
      "cell_type": "markdown",
      "source": [
        "# **Building the Model**"
      ],
      "metadata": {
        "id": "dvySVYJ-la-H"
      }
    },
    {
      "cell_type": "code",
      "source": [
        "X_train = [getFeaturesForOneSentence(sentence) for sentence in train_sentences]\n",
        "X_test = [getFeaturesForOneSentence(sentence) for sentence in test_sentences]"
      ],
      "metadata": {
        "id": "AfQsifK9jdaW"
      },
      "execution_count": 26,
      "outputs": []
    },
    {
      "cell_type": "code",
      "source": [
        "Y_train = [getLabelsInListForOneSentence(labels) for labels in train_labels]\n",
        "Y_test = [getLabelsInListForOneSentence(labels) for labels in test_labels]"
      ],
      "metadata": {
        "id": "BZfHyxbvlOj9"
      },
      "execution_count": 27,
      "outputs": []
    },
    {
      "cell_type": "code",
      "source": [
        "# Building the CRF model. Using max_iterations as 200.\n",
        "crf = sklearn_crfsuite.CRF(max_iterations=300)\n",
        "\n",
        "crf.fit(X_train, Y_train)"
      ],
      "metadata": {
        "colab": {
          "base_uri": "https://localhost:8080/",
          "height": 79
        },
        "id": "JRAvQK-wpQKH",
        "outputId": "d7f8b7be-7b4e-4e20-b8ae-b532cbc45f71"
      },
      "execution_count": 29,
      "outputs": [
        {
          "output_type": "execute_result",
          "data": {
            "text/plain": [
              "CRF(max_iterations=300)"
            ],
            "text/html": [
              "<style>#sk-container-id-1 {\n",
              "  /* Definition of color scheme common for light and dark mode */\n",
              "  --sklearn-color-text: black;\n",
              "  --sklearn-color-line: gray;\n",
              "  /* Definition of color scheme for unfitted estimators */\n",
              "  --sklearn-color-unfitted-level-0: #fff5e6;\n",
              "  --sklearn-color-unfitted-level-1: #f6e4d2;\n",
              "  --sklearn-color-unfitted-level-2: #ffe0b3;\n",
              "  --sklearn-color-unfitted-level-3: chocolate;\n",
              "  /* Definition of color scheme for fitted estimators */\n",
              "  --sklearn-color-fitted-level-0: #f0f8ff;\n",
              "  --sklearn-color-fitted-level-1: #d4ebff;\n",
              "  --sklearn-color-fitted-level-2: #b3dbfd;\n",
              "  --sklearn-color-fitted-level-3: cornflowerblue;\n",
              "\n",
              "  /* Specific color for light theme */\n",
              "  --sklearn-color-text-on-default-background: var(--sg-text-color, var(--theme-code-foreground, var(--jp-content-font-color1, black)));\n",
              "  --sklearn-color-background: var(--sg-background-color, var(--theme-background, var(--jp-layout-color0, white)));\n",
              "  --sklearn-color-border-box: var(--sg-text-color, var(--theme-code-foreground, var(--jp-content-font-color1, black)));\n",
              "  --sklearn-color-icon: #696969;\n",
              "\n",
              "  @media (prefers-color-scheme: dark) {\n",
              "    /* Redefinition of color scheme for dark theme */\n",
              "    --sklearn-color-text-on-default-background: var(--sg-text-color, var(--theme-code-foreground, var(--jp-content-font-color1, white)));\n",
              "    --sklearn-color-background: var(--sg-background-color, var(--theme-background, var(--jp-layout-color0, #111)));\n",
              "    --sklearn-color-border-box: var(--sg-text-color, var(--theme-code-foreground, var(--jp-content-font-color1, white)));\n",
              "    --sklearn-color-icon: #878787;\n",
              "  }\n",
              "}\n",
              "\n",
              "#sk-container-id-1 {\n",
              "  color: var(--sklearn-color-text);\n",
              "}\n",
              "\n",
              "#sk-container-id-1 pre {\n",
              "  padding: 0;\n",
              "}\n",
              "\n",
              "#sk-container-id-1 input.sk-hidden--visually {\n",
              "  border: 0;\n",
              "  clip: rect(1px 1px 1px 1px);\n",
              "  clip: rect(1px, 1px, 1px, 1px);\n",
              "  height: 1px;\n",
              "  margin: -1px;\n",
              "  overflow: hidden;\n",
              "  padding: 0;\n",
              "  position: absolute;\n",
              "  width: 1px;\n",
              "}\n",
              "\n",
              "#sk-container-id-1 div.sk-dashed-wrapped {\n",
              "  border: 1px dashed var(--sklearn-color-line);\n",
              "  margin: 0 0.4em 0.5em 0.4em;\n",
              "  box-sizing: border-box;\n",
              "  padding-bottom: 0.4em;\n",
              "  background-color: var(--sklearn-color-background);\n",
              "}\n",
              "\n",
              "#sk-container-id-1 div.sk-container {\n",
              "  /* jupyter's `normalize.less` sets `[hidden] { display: none; }`\n",
              "     but bootstrap.min.css set `[hidden] { display: none !important; }`\n",
              "     so we also need the `!important` here to be able to override the\n",
              "     default hidden behavior on the sphinx rendered scikit-learn.org.\n",
              "     See: https://github.com/scikit-learn/scikit-learn/issues/21755 */\n",
              "  display: inline-block !important;\n",
              "  position: relative;\n",
              "}\n",
              "\n",
              "#sk-container-id-1 div.sk-text-repr-fallback {\n",
              "  display: none;\n",
              "}\n",
              "\n",
              "div.sk-parallel-item,\n",
              "div.sk-serial,\n",
              "div.sk-item {\n",
              "  /* draw centered vertical line to link estimators */\n",
              "  background-image: linear-gradient(var(--sklearn-color-text-on-default-background), var(--sklearn-color-text-on-default-background));\n",
              "  background-size: 2px 100%;\n",
              "  background-repeat: no-repeat;\n",
              "  background-position: center center;\n",
              "}\n",
              "\n",
              "/* Parallel-specific style estimator block */\n",
              "\n",
              "#sk-container-id-1 div.sk-parallel-item::after {\n",
              "  content: \"\";\n",
              "  width: 100%;\n",
              "  border-bottom: 2px solid var(--sklearn-color-text-on-default-background);\n",
              "  flex-grow: 1;\n",
              "}\n",
              "\n",
              "#sk-container-id-1 div.sk-parallel {\n",
              "  display: flex;\n",
              "  align-items: stretch;\n",
              "  justify-content: center;\n",
              "  background-color: var(--sklearn-color-background);\n",
              "  position: relative;\n",
              "}\n",
              "\n",
              "#sk-container-id-1 div.sk-parallel-item {\n",
              "  display: flex;\n",
              "  flex-direction: column;\n",
              "}\n",
              "\n",
              "#sk-container-id-1 div.sk-parallel-item:first-child::after {\n",
              "  align-self: flex-end;\n",
              "  width: 50%;\n",
              "}\n",
              "\n",
              "#sk-container-id-1 div.sk-parallel-item:last-child::after {\n",
              "  align-self: flex-start;\n",
              "  width: 50%;\n",
              "}\n",
              "\n",
              "#sk-container-id-1 div.sk-parallel-item:only-child::after {\n",
              "  width: 0;\n",
              "}\n",
              "\n",
              "/* Serial-specific style estimator block */\n",
              "\n",
              "#sk-container-id-1 div.sk-serial {\n",
              "  display: flex;\n",
              "  flex-direction: column;\n",
              "  align-items: center;\n",
              "  background-color: var(--sklearn-color-background);\n",
              "  padding-right: 1em;\n",
              "  padding-left: 1em;\n",
              "}\n",
              "\n",
              "\n",
              "/* Toggleable style: style used for estimator/Pipeline/ColumnTransformer box that is\n",
              "clickable and can be expanded/collapsed.\n",
              "- Pipeline and ColumnTransformer use this feature and define the default style\n",
              "- Estimators will overwrite some part of the style using the `sk-estimator` class\n",
              "*/\n",
              "\n",
              "/* Pipeline and ColumnTransformer style (default) */\n",
              "\n",
              "#sk-container-id-1 div.sk-toggleable {\n",
              "  /* Default theme specific background. It is overwritten whether we have a\n",
              "  specific estimator or a Pipeline/ColumnTransformer */\n",
              "  background-color: var(--sklearn-color-background);\n",
              "}\n",
              "\n",
              "/* Toggleable label */\n",
              "#sk-container-id-1 label.sk-toggleable__label {\n",
              "  cursor: pointer;\n",
              "  display: block;\n",
              "  width: 100%;\n",
              "  margin-bottom: 0;\n",
              "  padding: 0.5em;\n",
              "  box-sizing: border-box;\n",
              "  text-align: center;\n",
              "}\n",
              "\n",
              "#sk-container-id-1 label.sk-toggleable__label-arrow:before {\n",
              "  /* Arrow on the left of the label */\n",
              "  content: \"▸\";\n",
              "  float: left;\n",
              "  margin-right: 0.25em;\n",
              "  color: var(--sklearn-color-icon);\n",
              "}\n",
              "\n",
              "#sk-container-id-1 label.sk-toggleable__label-arrow:hover:before {\n",
              "  color: var(--sklearn-color-text);\n",
              "}\n",
              "\n",
              "/* Toggleable content - dropdown */\n",
              "\n",
              "#sk-container-id-1 div.sk-toggleable__content {\n",
              "  max-height: 0;\n",
              "  max-width: 0;\n",
              "  overflow: hidden;\n",
              "  text-align: left;\n",
              "  /* unfitted */\n",
              "  background-color: var(--sklearn-color-unfitted-level-0);\n",
              "}\n",
              "\n",
              "#sk-container-id-1 div.sk-toggleable__content.fitted {\n",
              "  /* fitted */\n",
              "  background-color: var(--sklearn-color-fitted-level-0);\n",
              "}\n",
              "\n",
              "#sk-container-id-1 div.sk-toggleable__content pre {\n",
              "  margin: 0.2em;\n",
              "  border-radius: 0.25em;\n",
              "  color: var(--sklearn-color-text);\n",
              "  /* unfitted */\n",
              "  background-color: var(--sklearn-color-unfitted-level-0);\n",
              "}\n",
              "\n",
              "#sk-container-id-1 div.sk-toggleable__content.fitted pre {\n",
              "  /* unfitted */\n",
              "  background-color: var(--sklearn-color-fitted-level-0);\n",
              "}\n",
              "\n",
              "#sk-container-id-1 input.sk-toggleable__control:checked~div.sk-toggleable__content {\n",
              "  /* Expand drop-down */\n",
              "  max-height: 200px;\n",
              "  max-width: 100%;\n",
              "  overflow: auto;\n",
              "}\n",
              "\n",
              "#sk-container-id-1 input.sk-toggleable__control:checked~label.sk-toggleable__label-arrow:before {\n",
              "  content: \"▾\";\n",
              "}\n",
              "\n",
              "/* Pipeline/ColumnTransformer-specific style */\n",
              "\n",
              "#sk-container-id-1 div.sk-label input.sk-toggleable__control:checked~label.sk-toggleable__label {\n",
              "  color: var(--sklearn-color-text);\n",
              "  background-color: var(--sklearn-color-unfitted-level-2);\n",
              "}\n",
              "\n",
              "#sk-container-id-1 div.sk-label.fitted input.sk-toggleable__control:checked~label.sk-toggleable__label {\n",
              "  background-color: var(--sklearn-color-fitted-level-2);\n",
              "}\n",
              "\n",
              "/* Estimator-specific style */\n",
              "\n",
              "/* Colorize estimator box */\n",
              "#sk-container-id-1 div.sk-estimator input.sk-toggleable__control:checked~label.sk-toggleable__label {\n",
              "  /* unfitted */\n",
              "  background-color: var(--sklearn-color-unfitted-level-2);\n",
              "}\n",
              "\n",
              "#sk-container-id-1 div.sk-estimator.fitted input.sk-toggleable__control:checked~label.sk-toggleable__label {\n",
              "  /* fitted */\n",
              "  background-color: var(--sklearn-color-fitted-level-2);\n",
              "}\n",
              "\n",
              "#sk-container-id-1 div.sk-label label.sk-toggleable__label,\n",
              "#sk-container-id-1 div.sk-label label {\n",
              "  /* The background is the default theme color */\n",
              "  color: var(--sklearn-color-text-on-default-background);\n",
              "}\n",
              "\n",
              "/* On hover, darken the color of the background */\n",
              "#sk-container-id-1 div.sk-label:hover label.sk-toggleable__label {\n",
              "  color: var(--sklearn-color-text);\n",
              "  background-color: var(--sklearn-color-unfitted-level-2);\n",
              "}\n",
              "\n",
              "/* Label box, darken color on hover, fitted */\n",
              "#sk-container-id-1 div.sk-label.fitted:hover label.sk-toggleable__label.fitted {\n",
              "  color: var(--sklearn-color-text);\n",
              "  background-color: var(--sklearn-color-fitted-level-2);\n",
              "}\n",
              "\n",
              "/* Estimator label */\n",
              "\n",
              "#sk-container-id-1 div.sk-label label {\n",
              "  font-family: monospace;\n",
              "  font-weight: bold;\n",
              "  display: inline-block;\n",
              "  line-height: 1.2em;\n",
              "}\n",
              "\n",
              "#sk-container-id-1 div.sk-label-container {\n",
              "  text-align: center;\n",
              "}\n",
              "\n",
              "/* Estimator-specific */\n",
              "#sk-container-id-1 div.sk-estimator {\n",
              "  font-family: monospace;\n",
              "  border: 1px dotted var(--sklearn-color-border-box);\n",
              "  border-radius: 0.25em;\n",
              "  box-sizing: border-box;\n",
              "  margin-bottom: 0.5em;\n",
              "  /* unfitted */\n",
              "  background-color: var(--sklearn-color-unfitted-level-0);\n",
              "}\n",
              "\n",
              "#sk-container-id-1 div.sk-estimator.fitted {\n",
              "  /* fitted */\n",
              "  background-color: var(--sklearn-color-fitted-level-0);\n",
              "}\n",
              "\n",
              "/* on hover */\n",
              "#sk-container-id-1 div.sk-estimator:hover {\n",
              "  /* unfitted */\n",
              "  background-color: var(--sklearn-color-unfitted-level-2);\n",
              "}\n",
              "\n",
              "#sk-container-id-1 div.sk-estimator.fitted:hover {\n",
              "  /* fitted */\n",
              "  background-color: var(--sklearn-color-fitted-level-2);\n",
              "}\n",
              "\n",
              "/* Specification for estimator info (e.g. \"i\" and \"?\") */\n",
              "\n",
              "/* Common style for \"i\" and \"?\" */\n",
              "\n",
              ".sk-estimator-doc-link,\n",
              "a:link.sk-estimator-doc-link,\n",
              "a:visited.sk-estimator-doc-link {\n",
              "  float: right;\n",
              "  font-size: smaller;\n",
              "  line-height: 1em;\n",
              "  font-family: monospace;\n",
              "  background-color: var(--sklearn-color-background);\n",
              "  border-radius: 1em;\n",
              "  height: 1em;\n",
              "  width: 1em;\n",
              "  text-decoration: none !important;\n",
              "  margin-left: 1ex;\n",
              "  /* unfitted */\n",
              "  border: var(--sklearn-color-unfitted-level-1) 1pt solid;\n",
              "  color: var(--sklearn-color-unfitted-level-1);\n",
              "}\n",
              "\n",
              ".sk-estimator-doc-link.fitted,\n",
              "a:link.sk-estimator-doc-link.fitted,\n",
              "a:visited.sk-estimator-doc-link.fitted {\n",
              "  /* fitted */\n",
              "  border: var(--sklearn-color-fitted-level-1) 1pt solid;\n",
              "  color: var(--sklearn-color-fitted-level-1);\n",
              "}\n",
              "\n",
              "/* On hover */\n",
              "div.sk-estimator:hover .sk-estimator-doc-link:hover,\n",
              ".sk-estimator-doc-link:hover,\n",
              "div.sk-label-container:hover .sk-estimator-doc-link:hover,\n",
              ".sk-estimator-doc-link:hover {\n",
              "  /* unfitted */\n",
              "  background-color: var(--sklearn-color-unfitted-level-3);\n",
              "  color: var(--sklearn-color-background);\n",
              "  text-decoration: none;\n",
              "}\n",
              "\n",
              "div.sk-estimator.fitted:hover .sk-estimator-doc-link.fitted:hover,\n",
              ".sk-estimator-doc-link.fitted:hover,\n",
              "div.sk-label-container:hover .sk-estimator-doc-link.fitted:hover,\n",
              ".sk-estimator-doc-link.fitted:hover {\n",
              "  /* fitted */\n",
              "  background-color: var(--sklearn-color-fitted-level-3);\n",
              "  color: var(--sklearn-color-background);\n",
              "  text-decoration: none;\n",
              "}\n",
              "\n",
              "/* Span, style for the box shown on hovering the info icon */\n",
              ".sk-estimator-doc-link span {\n",
              "  display: none;\n",
              "  z-index: 9999;\n",
              "  position: relative;\n",
              "  font-weight: normal;\n",
              "  right: .2ex;\n",
              "  padding: .5ex;\n",
              "  margin: .5ex;\n",
              "  width: min-content;\n",
              "  min-width: 20ex;\n",
              "  max-width: 50ex;\n",
              "  color: var(--sklearn-color-text);\n",
              "  box-shadow: 2pt 2pt 4pt #999;\n",
              "  /* unfitted */\n",
              "  background: var(--sklearn-color-unfitted-level-0);\n",
              "  border: .5pt solid var(--sklearn-color-unfitted-level-3);\n",
              "}\n",
              "\n",
              ".sk-estimator-doc-link.fitted span {\n",
              "  /* fitted */\n",
              "  background: var(--sklearn-color-fitted-level-0);\n",
              "  border: var(--sklearn-color-fitted-level-3);\n",
              "}\n",
              "\n",
              ".sk-estimator-doc-link:hover span {\n",
              "  display: block;\n",
              "}\n",
              "\n",
              "/* \"?\"-specific style due to the `<a>` HTML tag */\n",
              "\n",
              "#sk-container-id-1 a.estimator_doc_link {\n",
              "  float: right;\n",
              "  font-size: 1rem;\n",
              "  line-height: 1em;\n",
              "  font-family: monospace;\n",
              "  background-color: var(--sklearn-color-background);\n",
              "  border-radius: 1rem;\n",
              "  height: 1rem;\n",
              "  width: 1rem;\n",
              "  text-decoration: none;\n",
              "  /* unfitted */\n",
              "  color: var(--sklearn-color-unfitted-level-1);\n",
              "  border: var(--sklearn-color-unfitted-level-1) 1pt solid;\n",
              "}\n",
              "\n",
              "#sk-container-id-1 a.estimator_doc_link.fitted {\n",
              "  /* fitted */\n",
              "  border: var(--sklearn-color-fitted-level-1) 1pt solid;\n",
              "  color: var(--sklearn-color-fitted-level-1);\n",
              "}\n",
              "\n",
              "/* On hover */\n",
              "#sk-container-id-1 a.estimator_doc_link:hover {\n",
              "  /* unfitted */\n",
              "  background-color: var(--sklearn-color-unfitted-level-3);\n",
              "  color: var(--sklearn-color-background);\n",
              "  text-decoration: none;\n",
              "}\n",
              "\n",
              "#sk-container-id-1 a.estimator_doc_link.fitted:hover {\n",
              "  /* fitted */\n",
              "  background-color: var(--sklearn-color-fitted-level-3);\n",
              "}\n",
              "</style><div id=\"sk-container-id-1\" class=\"sk-top-container\"><div class=\"sk-text-repr-fallback\"><pre>CRF(max_iterations=300)</pre><b>In a Jupyter environment, please rerun this cell to show the HTML representation or trust the notebook. <br />On GitHub, the HTML representation is unable to render, please try loading this page with nbviewer.org.</b></div><div class=\"sk-container\" hidden><div class=\"sk-item\"><div class=\"sk-estimator fitted sk-toggleable\"><input class=\"sk-toggleable__control sk-hidden--visually\" id=\"sk-estimator-id-1\" type=\"checkbox\" checked><label for=\"sk-estimator-id-1\" class=\"sk-toggleable__label fitted sk-toggleable__label-arrow fitted\">&nbsp;CRF<span class=\"sk-estimator-doc-link fitted\">i<span>Fitted</span></span></label><div class=\"sk-toggleable__content fitted\"><pre>CRF(max_iterations=300)</pre></div> </div></div></div></div>"
            ]
          },
          "metadata": {},
          "execution_count": 29
        }
      ]
    },
    {
      "cell_type": "markdown",
      "source": [
        "# **Evaluation**"
      ],
      "metadata": {
        "id": "3sujtccZpT8S"
      }
    },
    {
      "cell_type": "code",
      "source": [
        "Y_pred = crf.predict(X_test)"
      ],
      "metadata": {
        "id": "l4HPB_k6pXQU"
      },
      "execution_count": 30,
      "outputs": []
    },
    {
      "cell_type": "code",
      "source": [
        "metrics.flat_f1_score(Y_test, Y_pred, average='weighted')"
      ],
      "metadata": {
        "colab": {
          "base_uri": "https://localhost:8080/"
        },
        "id": "6GZleimPpatx",
        "outputId": "a28ddfd6-804f-4400-a200-8a87d55d1583"
      },
      "execution_count": 31,
      "outputs": [
        {
          "output_type": "execute_result",
          "data": {
            "text/plain": [
              "0.9081250616038787"
            ]
          },
          "metadata": {},
          "execution_count": 31
        }
      ]
    },
    {
      "cell_type": "code",
      "source": [
        "# Example test sentence and corresponding actual and predicted labels\n",
        "print(\"Sentence: \",test_sentences[13])\n",
        "print(\"Actual labels:    \", Y_test[13])\n",
        "print(\"Predicted labels: \", Y_pred[13])"
      ],
      "metadata": {
        "colab": {
          "base_uri": "https://localhost:8080/"
        },
        "id": "3QEkD1WGpfa_",
        "outputId": "6dbf3dc2-eb1e-46b8-afa7-06b593e76f93"
      },
      "execution_count": 32,
      "outputs": [
        {
          "output_type": "stream",
          "name": "stdout",
          "text": [
            "Sentence:  The objective of this study was to determine if the rate of preeclampsia is increased in triplet as compared to twin gestations\n",
            "Actual labels:     ['O', 'O', 'O', 'O', 'O', 'O', 'O', 'O', 'O', 'O', 'O', 'O', 'D', 'O', 'O', 'O', 'O', 'O', 'O', 'O', 'O', 'O']\n",
            "Predicted labels:  ['O', 'O', 'O', 'O', 'O', 'O', 'O', 'O', 'O', 'O', 'O', 'O', 'D', 'O', 'O', 'O', 'O', 'O', 'O', 'O', 'O', 'O']\n"
          ]
        }
      ]
    },
    {
      "cell_type": "code",
      "source": [
        "# Feature list of sentence above\n",
        "print(X_test[13])"
      ],
      "metadata": {
        "colab": {
          "base_uri": "https://localhost:8080/"
        },
        "id": "qfYqsvKNplTj",
        "outputId": "1989cea8-8ca5-4b9c-9c33-a7f46ac0ae4c"
      },
      "execution_count": 33,
      "outputs": [
        {
          "output_type": "stream",
          "name": "stdout",
          "text": [
            "[{'word.lower': 'the', 'word.postag': 'NOUN', 'word[-3:]': 'The', 'word[-2:]': 'he', 'word.isupper': False, 'word.isdigit': False, 'word.starts_with_capital': True, 'is_begin': True}, {'word.lower': 'objective', 'word.postag': 'NOUN', 'word[-3:]': 'ive', 'word[-2:]': 've', 'word.isupper': False, 'word.isdigit': False, 'word.starts_with_capital': False, 'prev_word.lower': 'the', 'prev_word.postag': 'NOUN', 'prev_word.isupper': False, 'prev_word.isdigit': False, 'prev_word.starts_with_capital': True}, {'word.lower': 'of', 'word.postag': 'NOUN', 'word[-3:]': 'of', 'word[-2:]': 'of', 'word.isupper': False, 'word.isdigit': False, 'word.starts_with_capital': False, 'prev_word.lower': 'objective', 'prev_word.postag': 'NOUN', 'prev_word.isupper': False, 'prev_word.isdigit': False, 'prev_word.starts_with_capital': False}, {'word.lower': 'this', 'word.postag': 'NOUN', 'word[-3:]': 'his', 'word[-2:]': 'is', 'word.isupper': False, 'word.isdigit': False, 'word.starts_with_capital': False, 'prev_word.lower': 'of', 'prev_word.postag': 'NOUN', 'prev_word.isupper': False, 'prev_word.isdigit': False, 'prev_word.starts_with_capital': False}, {'word.lower': 'study', 'word.postag': 'NOUN', 'word[-3:]': 'udy', 'word[-2:]': 'dy', 'word.isupper': False, 'word.isdigit': False, 'word.starts_with_capital': False, 'prev_word.lower': 'this', 'prev_word.postag': 'NOUN', 'prev_word.isupper': False, 'prev_word.isdigit': False, 'prev_word.starts_with_capital': False}, {'word.lower': 'was', 'word.postag': 'NOUN', 'word[-3:]': 'was', 'word[-2:]': 'as', 'word.isupper': False, 'word.isdigit': False, 'word.starts_with_capital': False, 'prev_word.lower': 'study', 'prev_word.postag': 'NOUN', 'prev_word.isupper': False, 'prev_word.isdigit': False, 'prev_word.starts_with_capital': False}, {'word.lower': 'to', 'word.postag': 'NOUN', 'word[-3:]': 'to', 'word[-2:]': 'to', 'word.isupper': False, 'word.isdigit': False, 'word.starts_with_capital': False, 'prev_word.lower': 'was', 'prev_word.postag': 'NOUN', 'prev_word.isupper': False, 'prev_word.isdigit': False, 'prev_word.starts_with_capital': False}, {'word.lower': 'determine', 'word.postag': 'NOUN', 'word[-3:]': 'ine', 'word[-2:]': 'ne', 'word.isupper': False, 'word.isdigit': False, 'word.starts_with_capital': False, 'prev_word.lower': 'to', 'prev_word.postag': 'NOUN', 'prev_word.isupper': False, 'prev_word.isdigit': False, 'prev_word.starts_with_capital': False}, {'word.lower': 'if', 'word.postag': 'NOUN', 'word[-3:]': 'if', 'word[-2:]': 'if', 'word.isupper': False, 'word.isdigit': False, 'word.starts_with_capital': False, 'prev_word.lower': 'determine', 'prev_word.postag': 'NOUN', 'prev_word.isupper': False, 'prev_word.isdigit': False, 'prev_word.starts_with_capital': False}, {'word.lower': 'the', 'word.postag': 'NOUN', 'word[-3:]': 'the', 'word[-2:]': 'he', 'word.isupper': False, 'word.isdigit': False, 'word.starts_with_capital': False, 'prev_word.lower': 'if', 'prev_word.postag': 'NOUN', 'prev_word.isupper': False, 'prev_word.isdigit': False, 'prev_word.starts_with_capital': False}, {'word.lower': 'rate', 'word.postag': 'NOUN', 'word[-3:]': 'ate', 'word[-2:]': 'te', 'word.isupper': False, 'word.isdigit': False, 'word.starts_with_capital': False, 'prev_word.lower': 'the', 'prev_word.postag': 'NOUN', 'prev_word.isupper': False, 'prev_word.isdigit': False, 'prev_word.starts_with_capital': False}, {'word.lower': 'of', 'word.postag': 'NOUN', 'word[-3:]': 'of', 'word[-2:]': 'of', 'word.isupper': False, 'word.isdigit': False, 'word.starts_with_capital': False, 'prev_word.lower': 'rate', 'prev_word.postag': 'NOUN', 'prev_word.isupper': False, 'prev_word.isdigit': False, 'prev_word.starts_with_capital': False}, {'word.lower': 'preeclampsia', 'word.postag': 'NOUN', 'word[-3:]': 'sia', 'word[-2:]': 'ia', 'word.isupper': False, 'word.isdigit': False, 'word.starts_with_capital': False, 'prev_word.lower': 'of', 'prev_word.postag': 'NOUN', 'prev_word.isupper': False, 'prev_word.isdigit': False, 'prev_word.starts_with_capital': False}, {'word.lower': 'is', 'word.postag': 'NOUN', 'word[-3:]': 'is', 'word[-2:]': 'is', 'word.isupper': False, 'word.isdigit': False, 'word.starts_with_capital': False, 'prev_word.lower': 'preeclampsia', 'prev_word.postag': 'NOUN', 'prev_word.isupper': False, 'prev_word.isdigit': False, 'prev_word.starts_with_capital': False}, {'word.lower': 'increased', 'word.postag': 'NOUN', 'word[-3:]': 'sed', 'word[-2:]': 'ed', 'word.isupper': False, 'word.isdigit': False, 'word.starts_with_capital': False, 'prev_word.lower': 'is', 'prev_word.postag': 'NOUN', 'prev_word.isupper': False, 'prev_word.isdigit': False, 'prev_word.starts_with_capital': False}, {'word.lower': 'in', 'word.postag': 'NOUN', 'word[-3:]': 'in', 'word[-2:]': 'in', 'word.isupper': False, 'word.isdigit': False, 'word.starts_with_capital': False, 'prev_word.lower': 'increased', 'prev_word.postag': 'NOUN', 'prev_word.isupper': False, 'prev_word.isdigit': False, 'prev_word.starts_with_capital': False}, {'word.lower': 'triplet', 'word.postag': 'NOUN', 'word[-3:]': 'let', 'word[-2:]': 'et', 'word.isupper': False, 'word.isdigit': False, 'word.starts_with_capital': False, 'prev_word.lower': 'in', 'prev_word.postag': 'NOUN', 'prev_word.isupper': False, 'prev_word.isdigit': False, 'prev_word.starts_with_capital': False}, {'word.lower': 'as', 'word.postag': 'NOUN', 'word[-3:]': 'as', 'word[-2:]': 'as', 'word.isupper': False, 'word.isdigit': False, 'word.starts_with_capital': False, 'prev_word.lower': 'triplet', 'prev_word.postag': 'NOUN', 'prev_word.isupper': False, 'prev_word.isdigit': False, 'prev_word.starts_with_capital': False}, {'word.lower': 'compared', 'word.postag': 'NOUN', 'word[-3:]': 'red', 'word[-2:]': 'ed', 'word.isupper': False, 'word.isdigit': False, 'word.starts_with_capital': False, 'prev_word.lower': 'as', 'prev_word.postag': 'NOUN', 'prev_word.isupper': False, 'prev_word.isdigit': False, 'prev_word.starts_with_capital': False}, {'word.lower': 'to', 'word.postag': 'NOUN', 'word[-3:]': 'to', 'word[-2:]': 'to', 'word.isupper': False, 'word.isdigit': False, 'word.starts_with_capital': False, 'prev_word.lower': 'compared', 'prev_word.postag': 'NOUN', 'prev_word.isupper': False, 'prev_word.isdigit': False, 'prev_word.starts_with_capital': False}, {'word.lower': 'twin', 'word.postag': 'NOUN', 'word[-3:]': 'win', 'word[-2:]': 'in', 'word.isupper': False, 'word.isdigit': False, 'word.starts_with_capital': False, 'prev_word.lower': 'to', 'prev_word.postag': 'NOUN', 'prev_word.isupper': False, 'prev_word.isdigit': False, 'prev_word.starts_with_capital': False}, {'word.lower': 'gestations', 'word.postag': 'NOUN', 'word[-3:]': 'ons', 'word[-2:]': 'ns', 'word.isupper': False, 'word.isdigit': False, 'word.starts_with_capital': False, 'prev_word.lower': 'twin', 'prev_word.postag': 'NOUN', 'prev_word.isupper': False, 'prev_word.isdigit': False, 'prev_word.starts_with_capital': False, 'is_end': True}]\n"
          ]
        }
      ]
    },
    {
      "cell_type": "code",
      "source": [
        "print(type(X_test))\n",
        "print(X_test[0])  # Print the first element to check its structure\n",
        "print(X_test[0][0])  # Drill down further to inspect the nested structure\n"
      ],
      "metadata": {
        "colab": {
          "base_uri": "https://localhost:8080/"
        },
        "id": "s6vLm_Oluc0f",
        "outputId": "f402ed53-4869-46b7-e6b9-4684ea06264d"
      },
      "execution_count": 39,
      "outputs": [
        {
          "output_type": "stream",
          "name": "stdout",
          "text": [
            "<class 'list'>\n",
            "[{'word.lower': 'furthermore', 'word.postag': 'PUNCT', 'word[-3:]': 'ore', 'word[-2:]': 're', 'word.isupper': False, 'word.isdigit': False, 'word.starts_with_capital': True, 'is_begin': True}, {'word.lower': ',', 'word.postag': 'PUNCT', 'word[-3:]': ',', 'word[-2:]': ',', 'word.isupper': False, 'word.isdigit': False, 'word.starts_with_capital': False, 'prev_word.lower': 'furthermore', 'prev_word.postag': 'PUNCT', 'prev_word.isupper': False, 'prev_word.isdigit': False, 'prev_word.starts_with_capital': True}, {'word.lower': 'when', 'word.postag': 'PUNCT', 'word[-3:]': 'hen', 'word[-2:]': 'en', 'word.isupper': False, 'word.isdigit': False, 'word.starts_with_capital': False, 'prev_word.lower': ',', 'prev_word.postag': 'PUNCT', 'prev_word.isupper': False, 'prev_word.isdigit': False, 'prev_word.starts_with_capital': False}, {'word.lower': 'all', 'word.postag': 'PUNCT', 'word[-3:]': 'all', 'word[-2:]': 'll', 'word.isupper': False, 'word.isdigit': False, 'word.starts_with_capital': False, 'prev_word.lower': 'when', 'prev_word.postag': 'PUNCT', 'prev_word.isupper': False, 'prev_word.isdigit': False, 'prev_word.starts_with_capital': False}, {'word.lower': 'deliveries', 'word.postag': 'PUNCT', 'word[-3:]': 'ies', 'word[-2:]': 'es', 'word.isupper': False, 'word.isdigit': False, 'word.starts_with_capital': False, 'prev_word.lower': 'all', 'prev_word.postag': 'PUNCT', 'prev_word.isupper': False, 'prev_word.isdigit': False, 'prev_word.starts_with_capital': False}, {'word.lower': 'were', 'word.postag': 'PUNCT', 'word[-3:]': 'ere', 'word[-2:]': 're', 'word.isupper': False, 'word.isdigit': False, 'word.starts_with_capital': False, 'prev_word.lower': 'deliveries', 'prev_word.postag': 'PUNCT', 'prev_word.isupper': False, 'prev_word.isdigit': False, 'prev_word.starts_with_capital': False}, {'word.lower': 'analyzed', 'word.postag': 'PUNCT', 'word[-3:]': 'zed', 'word[-2:]': 'ed', 'word.isupper': False, 'word.isdigit': False, 'word.starts_with_capital': False, 'prev_word.lower': 'were', 'prev_word.postag': 'PUNCT', 'prev_word.isupper': False, 'prev_word.isdigit': False, 'prev_word.starts_with_capital': False}, {'word.lower': ',', 'word.postag': 'PUNCT', 'word[-3:]': ',', 'word[-2:]': ',', 'word.isupper': False, 'word.isdigit': False, 'word.starts_with_capital': False, 'prev_word.lower': 'analyzed', 'prev_word.postag': 'PUNCT', 'prev_word.isupper': False, 'prev_word.isdigit': False, 'prev_word.starts_with_capital': False}, {'word.lower': 'regardless', 'word.postag': 'PUNCT', 'word[-3:]': 'ess', 'word[-2:]': 'ss', 'word.isupper': False, 'word.isdigit': False, 'word.starts_with_capital': False, 'prev_word.lower': ',', 'prev_word.postag': 'PUNCT', 'prev_word.isupper': False, 'prev_word.isdigit': False, 'prev_word.starts_with_capital': False}, {'word.lower': 'of', 'word.postag': 'PUNCT', 'word[-3:]': 'of', 'word[-2:]': 'of', 'word.isupper': False, 'word.isdigit': False, 'word.starts_with_capital': False, 'prev_word.lower': 'regardless', 'prev_word.postag': 'PUNCT', 'prev_word.isupper': False, 'prev_word.isdigit': False, 'prev_word.starts_with_capital': False}, {'word.lower': 'risk', 'word.postag': 'PUNCT', 'word[-3:]': 'isk', 'word[-2:]': 'sk', 'word.isupper': False, 'word.isdigit': False, 'word.starts_with_capital': False, 'prev_word.lower': 'of', 'prev_word.postag': 'PUNCT', 'prev_word.isupper': False, 'prev_word.isdigit': False, 'prev_word.starts_with_capital': False}, {'word.lower': 'status', 'word.postag': 'PUNCT', 'word[-3:]': 'tus', 'word[-2:]': 'us', 'word.isupper': False, 'word.isdigit': False, 'word.starts_with_capital': False, 'prev_word.lower': 'risk', 'prev_word.postag': 'PUNCT', 'prev_word.isupper': False, 'prev_word.isdigit': False, 'prev_word.starts_with_capital': False}, {'word.lower': 'but', 'word.postag': 'PUNCT', 'word[-3:]': 'but', 'word[-2:]': 'ut', 'word.isupper': False, 'word.isdigit': False, 'word.starts_with_capital': False, 'prev_word.lower': 'status', 'prev_word.postag': 'PUNCT', 'prev_word.isupper': False, 'prev_word.isdigit': False, 'prev_word.starts_with_capital': False}, {'word.lower': 'limited', 'word.postag': 'PUNCT', 'word[-3:]': 'ted', 'word[-2:]': 'ed', 'word.isupper': False, 'word.isdigit': False, 'word.starts_with_capital': False, 'prev_word.lower': 'but', 'prev_word.postag': 'PUNCT', 'prev_word.isupper': False, 'prev_word.isdigit': False, 'prev_word.starts_with_capital': False}, {'word.lower': 'to', 'word.postag': 'PUNCT', 'word[-3:]': 'to', 'word[-2:]': 'to', 'word.isupper': False, 'word.isdigit': False, 'word.starts_with_capital': False, 'prev_word.lower': 'limited', 'prev_word.postag': 'PUNCT', 'prev_word.isupper': False, 'prev_word.isdigit': False, 'prev_word.starts_with_capital': False}, {'word.lower': 'gestational', 'word.postag': 'PUNCT', 'word[-3:]': 'nal', 'word[-2:]': 'al', 'word.isupper': False, 'word.isdigit': False, 'word.starts_with_capital': False, 'prev_word.lower': 'to', 'prev_word.postag': 'PUNCT', 'prev_word.isupper': False, 'prev_word.isdigit': False, 'prev_word.starts_with_capital': False}, {'word.lower': 'age', 'word.postag': 'PUNCT', 'word[-3:]': 'age', 'word[-2:]': 'ge', 'word.isupper': False, 'word.isdigit': False, 'word.starts_with_capital': False, 'prev_word.lower': 'gestational', 'prev_word.postag': 'PUNCT', 'prev_word.isupper': False, 'prev_word.isdigit': False, 'prev_word.starts_with_capital': False}, {'word.lower': '>', 'word.postag': 'PUNCT', 'word[-3:]': '>', 'word[-2:]': '>', 'word.isupper': False, 'word.isdigit': False, 'word.starts_with_capital': False, 'prev_word.lower': 'age', 'prev_word.postag': 'PUNCT', 'prev_word.isupper': False, 'prev_word.isdigit': False, 'prev_word.starts_with_capital': False}, {'word.lower': 'or', 'word.postag': 'PUNCT', 'word[-3:]': 'or', 'word[-2:]': 'or', 'word.isupper': False, 'word.isdigit': False, 'word.starts_with_capital': False, 'prev_word.lower': '>', 'prev_word.postag': 'PUNCT', 'prev_word.isupper': False, 'prev_word.isdigit': False, 'prev_word.starts_with_capital': False}, {'word.lower': '=', 'word.postag': 'PUNCT', 'word[-3:]': '=', 'word[-2:]': '=', 'word.isupper': False, 'word.isdigit': False, 'word.starts_with_capital': False, 'prev_word.lower': 'or', 'prev_word.postag': 'PUNCT', 'prev_word.isupper': False, 'prev_word.isdigit': False, 'prev_word.starts_with_capital': False}, {'word.lower': '36', 'word.postag': 'PUNCT', 'word[-3:]': '36', 'word[-2:]': '36', 'word.isupper': False, 'word.isdigit': True, 'word.starts_with_capital': False, 'prev_word.lower': '=', 'prev_word.postag': 'PUNCT', 'prev_word.isupper': False, 'prev_word.isdigit': False, 'prev_word.starts_with_capital': False}, {'word.lower': 'weeks', 'word.postag': 'PUNCT', 'word[-3:]': 'eks', 'word[-2:]': 'ks', 'word.isupper': False, 'word.isdigit': False, 'word.starts_with_capital': False, 'prev_word.lower': '36', 'prev_word.postag': 'PUNCT', 'prev_word.isupper': False, 'prev_word.isdigit': True, 'prev_word.starts_with_capital': False}, {'word.lower': ',', 'word.postag': 'PUNCT', 'word[-3:]': ',', 'word[-2:]': ',', 'word.isupper': False, 'word.isdigit': False, 'word.starts_with_capital': False, 'prev_word.lower': 'weeks', 'prev_word.postag': 'PUNCT', 'prev_word.isupper': False, 'prev_word.isdigit': False, 'prev_word.starts_with_capital': False}, {'word.lower': 'the', 'word.postag': 'PUNCT', 'word[-3:]': 'the', 'word[-2:]': 'he', 'word.isupper': False, 'word.isdigit': False, 'word.starts_with_capital': False, 'prev_word.lower': ',', 'prev_word.postag': 'PUNCT', 'prev_word.isupper': False, 'prev_word.isdigit': False, 'prev_word.starts_with_capital': False}, {'word.lower': 'rates', 'word.postag': 'PUNCT', 'word[-3:]': 'tes', 'word[-2:]': 'es', 'word.isupper': False, 'word.isdigit': False, 'word.starts_with_capital': False, 'prev_word.lower': 'the', 'prev_word.postag': 'PUNCT', 'prev_word.isupper': False, 'prev_word.isdigit': False, 'prev_word.starts_with_capital': False}, {'word.lower': 'did', 'word.postag': 'PUNCT', 'word[-3:]': 'did', 'word[-2:]': 'id', 'word.isupper': False, 'word.isdigit': False, 'word.starts_with_capital': False, 'prev_word.lower': 'rates', 'prev_word.postag': 'PUNCT', 'prev_word.isupper': False, 'prev_word.isdigit': False, 'prev_word.starts_with_capital': False}, {'word.lower': 'not', 'word.postag': 'PUNCT', 'word[-3:]': 'not', 'word[-2:]': 'ot', 'word.isupper': False, 'word.isdigit': False, 'word.starts_with_capital': False, 'prev_word.lower': 'did', 'prev_word.postag': 'PUNCT', 'prev_word.isupper': False, 'prev_word.isdigit': False, 'prev_word.starts_with_capital': False}, {'word.lower': 'change', 'word.postag': 'PUNCT', 'word[-3:]': 'nge', 'word[-2:]': 'ge', 'word.isupper': False, 'word.isdigit': False, 'word.starts_with_capital': False, 'prev_word.lower': 'not', 'prev_word.postag': 'PUNCT', 'prev_word.isupper': False, 'prev_word.isdigit': False, 'prev_word.starts_with_capital': False}, {'word.lower': '(', 'word.postag': 'PUNCT', 'word[-3:]': '(', 'word[-2:]': '(', 'word.isupper': False, 'word.isdigit': False, 'word.starts_with_capital': False, 'prev_word.lower': 'change', 'prev_word.postag': 'PUNCT', 'prev_word.isupper': False, 'prev_word.isdigit': False, 'prev_word.starts_with_capital': False}, {'word.lower': '12.6', 'word.postag': 'PUNCT', 'word[-3:]': '2.6', 'word[-2:]': '.6', 'word.isupper': False, 'word.isdigit': False, 'word.starts_with_capital': False, 'prev_word.lower': '(', 'prev_word.postag': 'PUNCT', 'prev_word.isupper': False, 'prev_word.isdigit': False, 'prev_word.starts_with_capital': False}, {'word.lower': '%', 'word.postag': 'PUNCT', 'word[-3:]': '%', 'word[-2:]': '%', 'word.isupper': False, 'word.isdigit': False, 'word.starts_with_capital': False, 'prev_word.lower': '12.6', 'prev_word.postag': 'PUNCT', 'prev_word.isupper': False, 'prev_word.isdigit': False, 'prev_word.starts_with_capital': False}, {'word.lower': ',', 'word.postag': 'PUNCT', 'word[-3:]': ',', 'word[-2:]': ',', 'word.isupper': False, 'word.isdigit': False, 'word.starts_with_capital': False, 'prev_word.lower': '%', 'prev_word.postag': 'PUNCT', 'prev_word.isupper': False, 'prev_word.isdigit': False, 'prev_word.starts_with_capital': False}, {'word.lower': '280', 'word.postag': 'PUNCT', 'word[-3:]': '280', 'word[-2:]': '80', 'word.isupper': False, 'word.isdigit': True, 'word.starts_with_capital': False, 'prev_word.lower': ',', 'prev_word.postag': 'PUNCT', 'prev_word.isupper': False, 'prev_word.isdigit': False, 'prev_word.starts_with_capital': False}, {'word.lower': 'of', 'word.postag': 'PUNCT', 'word[-3:]': 'of', 'word[-2:]': 'of', 'word.isupper': False, 'word.isdigit': False, 'word.starts_with_capital': False, 'prev_word.lower': '280', 'prev_word.postag': 'PUNCT', 'prev_word.isupper': False, 'prev_word.isdigit': True, 'prev_word.starts_with_capital': False}, {'word.lower': '2214', 'word.postag': 'PUNCT', 'word[-3:]': '214', 'word[-2:]': '14', 'word.isupper': False, 'word.isdigit': True, 'word.starts_with_capital': False, 'prev_word.lower': 'of', 'prev_word.postag': 'PUNCT', 'prev_word.isupper': False, 'prev_word.isdigit': False, 'prev_word.starts_with_capital': False}, {'word.lower': ';', 'word.postag': 'PUNCT', 'word[-3:]': ';', 'word[-2:]': ';', 'word.isupper': False, 'word.isdigit': False, 'word.starts_with_capital': False, 'prev_word.lower': '2214', 'prev_word.postag': 'PUNCT', 'prev_word.isupper': False, 'prev_word.isdigit': True, 'prev_word.starts_with_capital': False}, {'word.lower': 'primary', 'word.postag': 'PUNCT', 'word[-3:]': 'ary', 'word[-2:]': 'ry', 'word.isupper': False, 'word.isdigit': False, 'word.starts_with_capital': False, 'prev_word.lower': ';', 'prev_word.postag': 'PUNCT', 'prev_word.isupper': False, 'prev_word.isdigit': False, 'prev_word.starts_with_capital': False}, {'word.lower': '9.2', 'word.postag': 'PUNCT', 'word[-3:]': '9.2', 'word[-2:]': '.2', 'word.isupper': False, 'word.isdigit': False, 'word.starts_with_capital': False, 'prev_word.lower': 'primary', 'prev_word.postag': 'PUNCT', 'prev_word.isupper': False, 'prev_word.isdigit': False, 'prev_word.starts_with_capital': False}, {'word.lower': '%', 'word.postag': 'PUNCT', 'word[-3:]': '%', 'word[-2:]': '%', 'word.isupper': False, 'word.isdigit': False, 'word.starts_with_capital': False, 'prev_word.lower': '9.2', 'prev_word.postag': 'PUNCT', 'prev_word.isupper': False, 'prev_word.isdigit': False, 'prev_word.starts_with_capital': False}, {'word.lower': ',', 'word.postag': 'PUNCT', 'word[-3:]': ',', 'word[-2:]': ',', 'word.isupper': False, 'word.isdigit': False, 'word.starts_with_capital': False, 'prev_word.lower': '%', 'prev_word.postag': 'PUNCT', 'prev_word.isupper': False, 'prev_word.isdigit': False, 'prev_word.starts_with_capital': False}, {'word.lower': '183', 'word.postag': 'PUNCT', 'word[-3:]': '183', 'word[-2:]': '83', 'word.isupper': False, 'word.isdigit': True, 'word.starts_with_capital': False, 'prev_word.lower': ',', 'prev_word.postag': 'PUNCT', 'prev_word.isupper': False, 'prev_word.isdigit': False, 'prev_word.starts_with_capital': False}, {'word.lower': 'of', 'word.postag': 'PUNCT', 'word[-3:]': 'of', 'word[-2:]': 'of', 'word.isupper': False, 'word.isdigit': False, 'word.starts_with_capital': False, 'prev_word.lower': '183', 'prev_word.postag': 'PUNCT', 'prev_word.isupper': False, 'prev_word.isdigit': True, 'prev_word.starts_with_capital': False}, {'word.lower': '1994', 'word.postag': 'PUNCT', 'word[-3:]': '994', 'word[-2:]': '94', 'word.isupper': False, 'word.isdigit': True, 'word.starts_with_capital': False, 'prev_word.lower': 'of', 'prev_word.postag': 'PUNCT', 'prev_word.isupper': False, 'prev_word.isdigit': False, 'prev_word.starts_with_capital': False}, {'word.lower': ')', 'word.postag': 'PUNCT', 'word[-3:]': ')', 'word[-2:]': ')', 'word.isupper': False, 'word.isdigit': False, 'word.starts_with_capital': False, 'prev_word.lower': '1994', 'prev_word.postag': 'PUNCT', 'prev_word.isupper': False, 'prev_word.isdigit': True, 'prev_word.starts_with_capital': False, 'is_end': True}]\n",
            "{'word.lower': 'furthermore', 'word.postag': 'PUNCT', 'word[-3:]': 'ore', 'word[-2:]': 're', 'word.isupper': False, 'word.isdigit': False, 'word.starts_with_capital': True, 'is_begin': True}\n"
          ]
        }
      ]
    },
    {
      "cell_type": "markdown",
      "source": [
        "# **Identifying Diseases and Treatments using Custom NER**\n",
        "\n",
        " We now use the CRF model's prediction to prepare a record of diseases identified in the corpus and treatments used for the diseases."
      ],
      "metadata": {
        "id": "nhAzum1QwWJx"
      }
    },
    {
      "cell_type": "code",
      "source": [
        "# Extracting a dictionary of all the predicted diseases from our test data and the corresponding treatments.\n",
        "disease_treatment = {}  # Initializing an empty dictionary\n",
        "\n",
        "for i in range(len(Y_pred)):\n",
        "    diseases = []  # List of diseases in the current sentence\n",
        "    treatments = []  # List of treatments in the current sentence\n",
        "    current_disease = \"\"  # Temporary storage for multi-word disease\n",
        "    current_treatment = \"\"  # Temporary storage for multi-word treatment\n",
        "    length = len(Y_pred[i])  # Length of current sentence\n",
        "\n",
        "    for j in range(length):\n",
        "        # Access the 'word.lower' key to get the actual word string\n",
        "        word = X_test[i][j]['word.lower']  # Assuming 'word.lower' key holds the word\n",
        "\n",
        "        # Check for disease labels ('D')\n",
        "        if Y_pred[i][j] == 'D':\n",
        "            current_disease += word + \" \"\n",
        "            if j == length - 1 or Y_pred[i][j + 1] != 'D':  # End of disease name\n",
        "                diseases.append(current_disease.strip())\n",
        "                current_disease = \"\"\n",
        "\n",
        "        # Check for treatment labels ('T')\n",
        "        if Y_pred[i][j] == 'T':\n",
        "            current_treatment += word + \" \"\n",
        "            if j == length - 1 or Y_pred[i][j + 1] != 'T':  # End of treatment name\n",
        "                treatments.append(current_treatment.strip())\n",
        "                current_treatment = \"\"\n",
        "\n",
        "    # Update the disease_treatment dictionary\n",
        "    for disease in diseases:\n",
        "        if disease in disease_treatment:\n",
        "            disease_treatment[disease].extend(treatments)\n",
        "        else:\n",
        "            disease_treatment[disease] = treatments[:]\n",
        "\n",
        "# The `disease_treatment` dictionary now contains diseases as keys and their treatments as values."
      ],
      "metadata": {
        "id": "GDMe8wF3vzzG"
      },
      "execution_count": 42,
      "outputs": []
    },
    {
      "cell_type": "code",
      "source": [
        "# Displaying dictionary of extracted diseases and potential treatments.\n",
        "disease_treatment"
      ],
      "metadata": {
        "colab": {
          "base_uri": "https://localhost:8080/"
        },
        "id": "Otow6FGkqPoh",
        "outputId": "dcf71f1b-df52-429f-cf29-dc57a2a8bff6"
      },
      "execution_count": 43,
      "outputs": [
        {
          "output_type": "execute_result",
          "data": {
            "text/plain": [
              "{'gestational diabetes cases': [],\n",
              " 'preeclampsia': [],\n",
              " 'severe preeclampsia': [],\n",
              " 'asymmetric double hemiplegia': [],\n",
              " 'reversible nonimmune hydrops fetalis': [],\n",
              " 'breast and/or ovarian cancer': [],\n",
              " 'breast cancer': ['hormone replacement therapy',\n",
              "  'undergone subcutaneous mastectomy'],\n",
              " 'ovarian cancer': [],\n",
              " 'prostate cancer': ['radical prostatectomy and iodine 125 interstitial radiotherapy'],\n",
              " 'mutated prostate cancer': [],\n",
              " 'hereditary prostate cancer': [],\n",
              " 'multiple sclerosis ( ms )': [],\n",
              " 'hereditary retinoblastoma': ['radiotherapy'],\n",
              " 'epilepsy': [],\n",
              " 'unstable angina or non-q-wave myocardial infarction': ['roxithromycin'],\n",
              " 'coronary-artery disease': ['antichlamydial antibiotics'],\n",
              " 'early-stage cervical carcinoma': [],\n",
              " 'advanced disease': [],\n",
              " 'cerebral palsy': ['hyperbaric oxygen therapy'],\n",
              " 'severe pain': [],\n",
              " 'myofascial trigger point pain': [],\n",
              " 'infections': [],\n",
              " 'primary pulmonary hypertension ( pph )': ['fenfluramines'],\n",
              " 'essential hypertension': [],\n",
              " 'osteoporosis among older persons': [],\n",
              " 'foot infections': [],\n",
              " 'cellulitis': ['g-csf therapy', 'intravenous antibiotic treatment'],\n",
              " 'foot infection': ['g-csf treatment'],\n",
              " 'hemorrhagic stroke': [],\n",
              " 'cardiac disease': [],\n",
              " 'rheumatoid arthritis': [],\n",
              " 'stroke victims': [],\n",
              " \"early parkinson 's disease\": ['ropinirole monotherapy'],\n",
              " 'sore throat': ['antibiotics'],\n",
              " 'upper respiratory conditions': [],\n",
              " 'sore throat increase reattendance': [],\n",
              " 'postoperative pain relief': [],\n",
              " 'analgesia when equianalgesic doses': [],\n",
              " 'chronic neutropenia': [],\n",
              " 'female stress urinary incontinence': ['surgical treatment'],\n",
              " 'stress urinary incontinence': ['therapy'],\n",
              " 'corpal gastritis': [],\n",
              " 'preeclampsia ( proteinuric hypertension )': ['intrauterine insemination with donor sperm versus intrauterine insemination'],\n",
              " 'mild preeclampsia': [],\n",
              " 'myocardial amyloidosis': [],\n",
              " 'heart failure': [],\n",
              " 'amyloidosis': [],\n",
              " 'cardiac amyloid heart disease': [],\n",
              " 'retinopathy': [],\n",
              " 'intra-abdominal injury': [],\n",
              " 'tangential gunshot wounds': [],\n",
              " 'intra-abdominal hemorrhage': [],\n",
              " 'severe acquired hyperammonemia': ['organ transplantation and chemotherapy'],\n",
              " 'cancer': ['organ transplantation and chemotherapy',\n",
              "  'matrix metalloproteinase inhibitors'],\n",
              " 'major pulmonary embolism': ['thrombolytic treatment'],\n",
              " 'congestive heart failure': [],\n",
              " 'chronic pulmonary disease': [],\n",
              " 'malignant pleural mesothelioma': ['thoracotomy , radiotherapy , and chemotherapy'],\n",
              " 'additional edema': [],\n",
              " 'dyskinesias': [],\n",
              " 'darier disease': [],\n",
              " 'tumor necrosis factor-alpha': [],\n",
              " 'syndrome of hemorrhagic shock and encephalopathy': [],\n",
              " 'tss': [],\n",
              " 'pulmonary symptoms attributable': ['chemotherapy'],\n",
              " 'non-obstructive azoospermia': ['testicular sperm retrieval by testicular fine needle aspiration ( tefna )',\n",
              "  'open biopsy and testicular sperm extraction ( tese )'],\n",
              " 'mantle cell lymphoma': [],\n",
              " 'acute lymphoblastic leukaemias': [],\n",
              " 'endometriosis': [],\n",
              " 'hyperlipidemias': [],\n",
              " 'deep vein thrombosis ( dvt )': [],\n",
              " 'hepatocerebral degeneration ( portal systemic encephalopathy )': [],\n",
              " 'mastitis': [],\n",
              " 'cervical carcinoma': [],\n",
              " 'duodenal ulcer': [],\n",
              " 'childhood schizophrenia': [],\n",
              " 'congenital adrenal hyperplasia': [],\n",
              " \"laennec 's cirrhosis\": [],\n",
              " 'renal stones': [],\n",
              " 'stone disease': [],\n",
              " 'congenital anomalies': [],\n",
              " 'ovarian carcinoma': [],\n",
              " 'heart congestive failure': [],\n",
              " 'biliary indication': [],\n",
              " 'piglet influenza': [],\n",
              " 'chronic progressive external ophthalmoplegia': [],\n",
              " 'cystic periventricular leukomalacia': [],\n",
              " 'metastasis of laryngeal carcinomas': [],\n",
              " 'hiv infection': [],\n",
              " 'graft spasm': [],\n",
              " 'renal dysfunction': [],\n",
              " 'colorectal cancer': ['elective surgery',\n",
              "  'docosahexanoic acid ( dha ) -concentrated fish oil'],\n",
              " \"leukaemia and non-hodgkin 's lymphoma\": [],\n",
              " 'childhood acute lymphoblastic leukaemia': [],\n",
              " 'gastrointestinal tumours': ['elective surgery'],\n",
              " 'chlamydia trachomatis': [],\n",
              " 'anemia of end-stage renal disease': [],\n",
              " 'malignant lymphomas': [],\n",
              " 'polymyalgia rheumatica and temporal arteritis': [],\n",
              " 'coronary heart disease': [],\n",
              " 'restenosis after coronary angioplasty': [],\n",
              " \"oral crohn 's disease\": [],\n",
              " 'gestational diabetes': [],\n",
              " 'bronchial asthma': [],\n",
              " 'disconnection syndrome': [],\n",
              " 'severe accidental hypothermia victims': [],\n",
              " 'hiv/aids': [],\n",
              " 'gunshot wounds': [],\n",
              " 'blastocystis hominis infection': [],\n",
              " 'multiple sclerosis': ['interferon beta treatment',\n",
              "  'intravenous immunoglobulin treatment'],\n",
              " 'does hyperglycemia really cause coronary heart disease': [],\n",
              " 'primary stomach lymphoma': [],\n",
              " 'systemic lupus erythematosus : mite dermatitis': [],\n",
              " 'lung cancer': [],\n",
              " 'metastatic malignant mesothelioma presenting as colonic polyps': [],\n",
              " \"parkinson 's disease\": ['microelectrode-guided posteroventral pallidotomy'],\n",
              " 'murine hepatitis virus strain 3 infection': [],\n",
              " 'synovial sarcoma': [],\n",
              " 'small cell lung cancer': [],\n",
              " 'acute respiratory distress syndrome': [],\n",
              " 'diabetes': [],\n",
              " 'chronic hepatitis': [],\n",
              " 'postraumatic stress disorder': [],\n",
              " 'kaposi sarcoma-associated herpesvirus infection': [],\n",
              " 'diabetes and hyperlipidemias': [],\n",
              " 'cardiac insufficiency': [],\n",
              " 'malignant soft tissue sarcomas': [],\n",
              " 'soft tissue sarcomas': ['radiotherapy'],\n",
              " 'intramedullary metastases of bronchogenic carcinoma': [],\n",
              " 'pseudo-lymphoma': [],\n",
              " 'auditory perception disorders due to bilateral cortical lesions': [],\n",
              " 'cerebral injuries': [],\n",
              " 'coronary endothelial dysfunction': [],\n",
              " 'myocardial perfusion defects': [],\n",
              " 'ectopic pregnancy': [],\n",
              " \"alzheimer 's disease\": [],\n",
              " \"eisenmenger 's syndrome\": ['laparoscopic cholecystectomy'],\n",
              " 'continuous ambulatory peritoneal dialysis': [],\n",
              " 'advanced esophageal cancer': ['adjuvant chemoradiotherapy with cddp'],\n",
              " 'sickle cell anemia': [],\n",
              " 'intractable seizures': [],\n",
              " 'new-onset angina preceding acute myocardial infarction': [],\n",
              " 'congenital bilateral aplasia': [],\n",
              " 'insulin-dependent diabetes mellitus': [],\n",
              " 'aids exceptionalism': [],\n",
              " 'myoepithelial carcinoma': [],\n",
              " 'pleomorphic adenoma': [],\n",
              " 'homocystinuria': [],\n",
              " 'malaria': [],\n",
              " 'severe psoriasis': [],\n",
              " 'leukemia': ['trisomy'],\n",
              " 'acute obstructive hydrocephalus complicating bacterial meningitis': [],\n",
              " 'refractory pouchitis': [],\n",
              " 'some malignant tumors such as non-small cell lung cancer': [],\n",
              " 'inoperable advanced malignancies such as colorectal cancer': ['combination with leucovorin or cisplatin'],\n",
              " 'advanced nsclc with manageable toxicities': [],\n",
              " 'recurrent cervical adenocarcinoma': [],\n",
              " 'influenza provides': [],\n",
              " 'influenza control': [],\n",
              " 'abdominal pain': [],\n",
              " 'pain': [],\n",
              " 'pleuritic pain': [],\n",
              " 'fungal infections': [],\n",
              " 'inflammatory skin diseases': ['topical corticosteroids'],\n",
              " 'unresectable stage iii nsclc': [],\n",
              " 'nsclc': ['got surgical treatment',\n",
              "  'radiotherapy',\n",
              "  'got surgical treatment',\n",
              "  'radiotherapy',\n",
              "  'platinum-based chemotherapy'],\n",
              " 'sclc': ['got surgical treatment', 'radiotherapy'],\n",
              " 'locally advanced non-small-cell lung cancer ( la-nsclc )': ['chemotherapy and radiotherapy )'],\n",
              " 'radiation-induced myelopathy': ['heparin and enoxaparin'],\n",
              " 'limited stage small cell lung cancer': ['vip combination chemotherapy'],\n",
              " 'malignant pleural effusions from nsclc': ['systemic chemotherapy'],\n",
              " 'small-cell lung cancer': ['chemotherapy', 'combination chemotherapy'],\n",
              " 'intraluminal early-stage cancer': [],\n",
              " 'pathologic stage i non-small cell lung cancer': [],\n",
              " 'supraclavicular node metastases in nsclc': ['chemoradiotherapy'],\n",
              " 'non-small-cell-lung-cancer ( nsclc )': ['cisplatin and radiotherapy'],\n",
              " 'esophageal cancer': [],\n",
              " 'lung cancer )': [],\n",
              " 'osteogenic sarcoma': [],\n",
              " 'lung carcinoma': ['videothoracoscopic lobectomy or partial resection',\n",
              "  'open thoracotomy'],\n",
              " 'stage 0 lung carcinoma': ['curative therapy'],\n",
              " 'melanoma': ['surgical resection'],\n",
              " 'ovarian carcinoma brain metastasis': ['surgical resection'],\n",
              " 'colorectal metastases': ['therapeutic vats metastasectomy'],\n",
              " 'limited-stage small-cell carcinoma': [],\n",
              " 'advanced nsclc': ['assessing combination chemotherapy of cisplatin , ifosfamide and irinotecan with rhg-csf support'],\n",
              " 'metastatic colorectal cancer': ['intravenous oxaliplatin'],\n",
              " 'platinum-pretreated ovarian cancer': ['oxaliplatin'],\n",
              " \"non-hodgkin 's lymphoma , breast cancer\": ['oxaliplatin'],\n",
              " 'mesothelioma and non-small cell lung cancer': ['oxaliplatin'],\n",
              " 'bronchogenic carcinoma': [],\n",
              " 'non-small cell lung cancer': ['combination with paclitaxel and carboplatin'],\n",
              " 'advanced hormone refractory prostate cancer': ['combination with paclitaxel and carboplatin'],\n",
              " 'primary lung cancer': ['resection'],\n",
              " 'adenocarcinoma': ['resection'],\n",
              " 'squamous cell carcinoma': ['resection'],\n",
              " 'stage iii nsclc': ['chemotherapy administered before surgery'],\n",
              " 'primary cancer': ['adjuvant radiation therapy'],\n",
              " 'advanced non -- small-cell lung cancer': ['paclitaxel plus carboplatin ( pc )',\n",
              "  'vinorelbine plus cisplatin ( vc )'],\n",
              " 'extensive disease': ['platinum dose ( cisplatin plus carboplatin ) in combination chemotherapy',\n",
              "  'combination therapy with carboplatin alone'],\n",
              " 'untreated small cell lung cancer ( sclc )': [],\n",
              " 'untreated sclc': [],\n",
              " 'pulmonary hypertension': [],\n",
              " 'neutropenia during cancer': ['chemotherapy'],\n",
              " 'head and neck cancer': ['intravenous amifostine'],\n",
              " '=2 xerostomia': ['intravenous amifostine'],\n",
              " 'carbon monoxide poisoning': [],\n",
              " 'acute myocardial infarction': ['thrombolytic therapy'],\n",
              " 'psoriasis': ['topical application of active vitamin d3 analogue , 1 alpha , 24-dihydroxycholecalciferol'],\n",
              " 'disseminated malignant melanoma': ['leukocyte a recombinant interferon ( rifn-alpha'],\n",
              " 'advanced stage ( tnm iib-ivb ) mycosis fungoides': ['a combination chemotherapy program consisting of bleomycin and methotrexate weekly , doxorubicin every'],\n",
              " 'ventricular tachycardia': ['guiding surgical therapy'],\n",
              " 'cholestasis': [],\n",
              " 'severe acute hepatitis accompanying cholestasis': [],\n",
              " 'autoimmune hepatitis': [],\n",
              " 'spinal adhesive arachnoiditis': ['surgical management'],\n",
              " 'bronchiectasis': ['antibiotics and surgery', 'current surgical therapy'],\n",
              " 'biliary colic symptoms': [],\n",
              " 'biliary dyskinesia': ['cholecystectomy'],\n",
              " 'the common cold': ['pseudoephedrine plus acetaminophen'],\n",
              " 'pulmonary aspergilloma': [],\n",
              " 'viral infections': [],\n",
              " 'asthma': ['fluticasone propionate'],\n",
              " 'pneumocystis carinii pneumonia': [],\n",
              " 'acute nasopharyngitis ( anp )': ['antibiotic treatment'],\n",
              " 'symptoms of a common cold': ['macrolide antibiotics'],\n",
              " 'rhinovirus colds': ['clarithromycin'],\n",
              " 'rhinovirus': ['clarithromycin'],\n",
              " 'acute exacerbation of chronic bronchitis': [],\n",
              " 'pneumonia': [],\n",
              " 'influenza': [],\n",
              " 'influenza a2 ( h2n2 ) virus': [],\n",
              " 'infection': ['a combination of omeprazole , amoxicillin , and clarithromycin'],\n",
              " 'carcinoma': [],\n",
              " 'persistent asthma': ['contemporary asthma management guidelines list inhaled corticosteroids'],\n",
              " 'chronic hepatitis c': ['combination therapy with interferon-alpha ( ifn alpha ) plus ribavirin'],\n",
              " 'hepatitis c viremia': ['combination therapy'],\n",
              " 'severe hypoxemia': ['glucocorticoid pulse therapy'],\n",
              " 'drug-resistant s. pneumoniae': [],\n",
              " 'bacterial meningitis': [],\n",
              " 'haemophilus influenzae meningitis': [],\n",
              " 'asthmatic bronchitis': [],\n",
              " 'rsv bronchiolitis': [],\n",
              " 'primary sclerosing cholangitis ( psc )': [],\n",
              " 'chronic renal failure': [],\n",
              " 'ischemic heart disease': [],\n",
              " 'peritoneal tumors': ['subcutaneous injection of irradiated llc-il2'],\n",
              " 'acute occlusion of the middle cerebral artery': ['thrombolytic therapy'],\n",
              " 'benign prostatic hyperplasia': [],\n",
              " 'rheumatic pain herbal': [],\n",
              " 'autoimmune diseases': ['high-dose intravenous immunoglobulin ( hdivig )'],\n",
              " 'large midline incisional hernias': [],\n",
              " 'low-grade nhl': [],\n",
              " 'large-bowel cancer': [],\n",
              " 'phaeochromocytoma': ['adrenalectomy'],\n",
              " 'malignant melanoma': ['interferon alfa-2a'],\n",
              " 'advanced renal cell carcinoma': ['various interferon alpha preparations',\n",
              "  'interferon alfa-n1 , interferon alfa-2a , and interferon alfa-2b'],\n",
              " 'hairy cell leukemia': [],\n",
              " \"low-grade non-hodgkin 's lymphoma\": ['interferon alpha'],\n",
              " \"low-grade non-hodgkin 's lymphomas\": [],\n",
              " 'chronic myelogenous leukemia ( cml )': [],\n",
              " 'partial seizures': ['lamotrigine ( ltg )', 'lamotrigine monotherapy'],\n",
              " 'esophageal achalasia': ['botulinum toxin injection , pneumatic dilation , and laparoscopic myotomy'],\n",
              " 'irritable bowel syndrome': ['chinese herbal medicine'],\n",
              " 'proximal hypospadias': ['tubularized incised plate hypospadias repair'],\n",
              " 'tumors': ['immunotherapy'],\n",
              " 'sickle cell disease': [],\n",
              " 'haematoma block versus intravenous regional anaesthesia': [],\n",
              " 'stroke': [],\n",
              " 'mitomycin-resistant bladder cancer': ['photodynamic therapy in combination with mitomycin c'],\n",
              " 'b16 melanoma': ['adenosine triphosphate and treatment with buthionine sulfoximine'],\n",
              " 'primary uveal melanoma': ['transpupillary thermotherapy'],\n",
              " 'advanced rectal cancer': [],\n",
              " 'noncirrhotic portal hypertension': [],\n",
              " 'midline incisional hernias': [],\n",
              " 'empyema': [],\n",
              " \"non-hodgkin 's lymphoma\": [],\n",
              " 'acute cerebral ischemia': ['antiplatelet therapy'],\n",
              " 'hyperopia': [],\n",
              " 'renal cell carcinoma': ['interferon treatment'],\n",
              " 'odontogenic infections': [],\n",
              " 'myocardial angiogenesis': ['gene therapy'],\n",
              " 'autoimmune hemolytic anemia': ['heparin'],\n",
              " 'epithelial ovarian cancer': ['high-dose chemotherapy'],\n",
              " 'atrial fibrillation': ['antiplatelet therapy'],\n",
              " 'diabetes mellitus': [],\n",
              " 'lymphoma': [],\n",
              " 'acute repetitive seizures': [],\n",
              " 'moderately symptomatic benign prostatic hyperplasia': ['surgical resection'],\n",
              " 'acoustic neuroma': ['stereotactic radiosurgery'],\n",
              " 'postvitrectomy diabetic vitreous hemorrhage': ['peripheral retinal cryotherapy'],\n",
              " 'acute carbon monoxide poisoning': [],\n",
              " 'hepatitis b': ['vaccine containing mf59 adjuvant'],\n",
              " 'temporomandibular joint arthropathy': [],\n",
              " 'acute colonic pseudo-obstruction': [],\n",
              " 'severe secondary peritonitis': ['surgical management'],\n",
              " 'hepatic metastases from colorectal cancer': ['hepatic arterial infusion of chemotherapy after resection'],\n",
              " 'severe diverticular hemorrhage': [],\n",
              " 'stable asthma': [],\n",
              " 'arthritis': [],\n",
              " 'live oral poliovirus vaccines': [],\n",
              " 'glaucoma': [],\n",
              " 'responsive multiple myeloma': []}"
            ]
          },
          "metadata": {},
          "execution_count": 43
        }
      ]
    },
    {
      "cell_type": "code",
      "source": [
        "# Obtaining a cleaned version of our \"disease_treatment\" dictionary\n",
        "cleaned_dict = {}\n",
        "for key in disease_treatment.keys():\n",
        "    if disease_treatment[key] != []:\n",
        "        cleaned_dict[key] = disease_treatment[key]\n",
        "cleaned_dict"
      ],
      "metadata": {
        "colab": {
          "base_uri": "https://localhost:8080/"
        },
        "id": "qeTTZiQYqR7K",
        "outputId": "edbabcbe-09fe-4c09-e434-b1f7aa7e0d0e"
      },
      "execution_count": 44,
      "outputs": [
        {
          "output_type": "execute_result",
          "data": {
            "text/plain": [
              "{'breast cancer': ['hormone replacement therapy',\n",
              "  'undergone subcutaneous mastectomy'],\n",
              " 'prostate cancer': ['radical prostatectomy and iodine 125 interstitial radiotherapy'],\n",
              " 'hereditary retinoblastoma': ['radiotherapy'],\n",
              " 'unstable angina or non-q-wave myocardial infarction': ['roxithromycin'],\n",
              " 'coronary-artery disease': ['antichlamydial antibiotics'],\n",
              " 'cerebral palsy': ['hyperbaric oxygen therapy'],\n",
              " 'primary pulmonary hypertension ( pph )': ['fenfluramines'],\n",
              " 'cellulitis': ['g-csf therapy', 'intravenous antibiotic treatment'],\n",
              " 'foot infection': ['g-csf treatment'],\n",
              " \"early parkinson 's disease\": ['ropinirole monotherapy'],\n",
              " 'sore throat': ['antibiotics'],\n",
              " 'female stress urinary incontinence': ['surgical treatment'],\n",
              " 'stress urinary incontinence': ['therapy'],\n",
              " 'preeclampsia ( proteinuric hypertension )': ['intrauterine insemination with donor sperm versus intrauterine insemination'],\n",
              " 'severe acquired hyperammonemia': ['organ transplantation and chemotherapy'],\n",
              " 'cancer': ['organ transplantation and chemotherapy',\n",
              "  'matrix metalloproteinase inhibitors'],\n",
              " 'major pulmonary embolism': ['thrombolytic treatment'],\n",
              " 'malignant pleural mesothelioma': ['thoracotomy , radiotherapy , and chemotherapy'],\n",
              " 'pulmonary symptoms attributable': ['chemotherapy'],\n",
              " 'non-obstructive azoospermia': ['testicular sperm retrieval by testicular fine needle aspiration ( tefna )',\n",
              "  'open biopsy and testicular sperm extraction ( tese )'],\n",
              " 'colorectal cancer': ['elective surgery',\n",
              "  'docosahexanoic acid ( dha ) -concentrated fish oil'],\n",
              " 'gastrointestinal tumours': ['elective surgery'],\n",
              " 'multiple sclerosis': ['interferon beta treatment',\n",
              "  'intravenous immunoglobulin treatment'],\n",
              " \"parkinson 's disease\": ['microelectrode-guided posteroventral pallidotomy'],\n",
              " 'soft tissue sarcomas': ['radiotherapy'],\n",
              " \"eisenmenger 's syndrome\": ['laparoscopic cholecystectomy'],\n",
              " 'advanced esophageal cancer': ['adjuvant chemoradiotherapy with cddp'],\n",
              " 'leukemia': ['trisomy'],\n",
              " 'inoperable advanced malignancies such as colorectal cancer': ['combination with leucovorin or cisplatin'],\n",
              " 'inflammatory skin diseases': ['topical corticosteroids'],\n",
              " 'nsclc': ['got surgical treatment',\n",
              "  'radiotherapy',\n",
              "  'got surgical treatment',\n",
              "  'radiotherapy',\n",
              "  'platinum-based chemotherapy'],\n",
              " 'sclc': ['got surgical treatment', 'radiotherapy'],\n",
              " 'locally advanced non-small-cell lung cancer ( la-nsclc )': ['chemotherapy and radiotherapy )'],\n",
              " 'radiation-induced myelopathy': ['heparin and enoxaparin'],\n",
              " 'limited stage small cell lung cancer': ['vip combination chemotherapy'],\n",
              " 'malignant pleural effusions from nsclc': ['systemic chemotherapy'],\n",
              " 'small-cell lung cancer': ['chemotherapy', 'combination chemotherapy'],\n",
              " 'supraclavicular node metastases in nsclc': ['chemoradiotherapy'],\n",
              " 'non-small-cell-lung-cancer ( nsclc )': ['cisplatin and radiotherapy'],\n",
              " 'lung carcinoma': ['videothoracoscopic lobectomy or partial resection',\n",
              "  'open thoracotomy'],\n",
              " 'stage 0 lung carcinoma': ['curative therapy'],\n",
              " 'melanoma': ['surgical resection'],\n",
              " 'ovarian carcinoma brain metastasis': ['surgical resection'],\n",
              " 'colorectal metastases': ['therapeutic vats metastasectomy'],\n",
              " 'advanced nsclc': ['assessing combination chemotherapy of cisplatin , ifosfamide and irinotecan with rhg-csf support'],\n",
              " 'metastatic colorectal cancer': ['intravenous oxaliplatin'],\n",
              " 'platinum-pretreated ovarian cancer': ['oxaliplatin'],\n",
              " \"non-hodgkin 's lymphoma , breast cancer\": ['oxaliplatin'],\n",
              " 'mesothelioma and non-small cell lung cancer': ['oxaliplatin'],\n",
              " 'non-small cell lung cancer': ['combination with paclitaxel and carboplatin'],\n",
              " 'advanced hormone refractory prostate cancer': ['combination with paclitaxel and carboplatin'],\n",
              " 'primary lung cancer': ['resection'],\n",
              " 'adenocarcinoma': ['resection'],\n",
              " 'squamous cell carcinoma': ['resection'],\n",
              " 'stage iii nsclc': ['chemotherapy administered before surgery'],\n",
              " 'primary cancer': ['adjuvant radiation therapy'],\n",
              " 'advanced non -- small-cell lung cancer': ['paclitaxel plus carboplatin ( pc )',\n",
              "  'vinorelbine plus cisplatin ( vc )'],\n",
              " 'extensive disease': ['platinum dose ( cisplatin plus carboplatin ) in combination chemotherapy',\n",
              "  'combination therapy with carboplatin alone'],\n",
              " 'neutropenia during cancer': ['chemotherapy'],\n",
              " 'head and neck cancer': ['intravenous amifostine'],\n",
              " '=2 xerostomia': ['intravenous amifostine'],\n",
              " 'acute myocardial infarction': ['thrombolytic therapy'],\n",
              " 'psoriasis': ['topical application of active vitamin d3 analogue , 1 alpha , 24-dihydroxycholecalciferol'],\n",
              " 'disseminated malignant melanoma': ['leukocyte a recombinant interferon ( rifn-alpha'],\n",
              " 'advanced stage ( tnm iib-ivb ) mycosis fungoides': ['a combination chemotherapy program consisting of bleomycin and methotrexate weekly , doxorubicin every'],\n",
              " 'ventricular tachycardia': ['guiding surgical therapy'],\n",
              " 'spinal adhesive arachnoiditis': ['surgical management'],\n",
              " 'bronchiectasis': ['antibiotics and surgery', 'current surgical therapy'],\n",
              " 'biliary dyskinesia': ['cholecystectomy'],\n",
              " 'the common cold': ['pseudoephedrine plus acetaminophen'],\n",
              " 'asthma': ['fluticasone propionate'],\n",
              " 'acute nasopharyngitis ( anp )': ['antibiotic treatment'],\n",
              " 'symptoms of a common cold': ['macrolide antibiotics'],\n",
              " 'rhinovirus colds': ['clarithromycin'],\n",
              " 'rhinovirus': ['clarithromycin'],\n",
              " 'infection': ['a combination of omeprazole , amoxicillin , and clarithromycin'],\n",
              " 'persistent asthma': ['contemporary asthma management guidelines list inhaled corticosteroids'],\n",
              " 'chronic hepatitis c': ['combination therapy with interferon-alpha ( ifn alpha ) plus ribavirin'],\n",
              " 'hepatitis c viremia': ['combination therapy'],\n",
              " 'severe hypoxemia': ['glucocorticoid pulse therapy'],\n",
              " 'peritoneal tumors': ['subcutaneous injection of irradiated llc-il2'],\n",
              " 'acute occlusion of the middle cerebral artery': ['thrombolytic therapy'],\n",
              " 'autoimmune diseases': ['high-dose intravenous immunoglobulin ( hdivig )'],\n",
              " 'phaeochromocytoma': ['adrenalectomy'],\n",
              " 'malignant melanoma': ['interferon alfa-2a'],\n",
              " 'advanced renal cell carcinoma': ['various interferon alpha preparations',\n",
              "  'interferon alfa-n1 , interferon alfa-2a , and interferon alfa-2b'],\n",
              " \"low-grade non-hodgkin 's lymphoma\": ['interferon alpha'],\n",
              " 'partial seizures': ['lamotrigine ( ltg )', 'lamotrigine monotherapy'],\n",
              " 'esophageal achalasia': ['botulinum toxin injection , pneumatic dilation , and laparoscopic myotomy'],\n",
              " 'irritable bowel syndrome': ['chinese herbal medicine'],\n",
              " 'proximal hypospadias': ['tubularized incised plate hypospadias repair'],\n",
              " 'tumors': ['immunotherapy'],\n",
              " 'mitomycin-resistant bladder cancer': ['photodynamic therapy in combination with mitomycin c'],\n",
              " 'b16 melanoma': ['adenosine triphosphate and treatment with buthionine sulfoximine'],\n",
              " 'primary uveal melanoma': ['transpupillary thermotherapy'],\n",
              " 'acute cerebral ischemia': ['antiplatelet therapy'],\n",
              " 'renal cell carcinoma': ['interferon treatment'],\n",
              " 'myocardial angiogenesis': ['gene therapy'],\n",
              " 'autoimmune hemolytic anemia': ['heparin'],\n",
              " 'epithelial ovarian cancer': ['high-dose chemotherapy'],\n",
              " 'atrial fibrillation': ['antiplatelet therapy'],\n",
              " 'moderately symptomatic benign prostatic hyperplasia': ['surgical resection'],\n",
              " 'acoustic neuroma': ['stereotactic radiosurgery'],\n",
              " 'postvitrectomy diabetic vitreous hemorrhage': ['peripheral retinal cryotherapy'],\n",
              " 'hepatitis b': ['vaccine containing mf59 adjuvant'],\n",
              " 'severe secondary peritonitis': ['surgical management'],\n",
              " 'hepatic metastases from colorectal cancer': ['hepatic arterial infusion of chemotherapy after resection']}"
            ]
          },
          "metadata": {},
          "execution_count": 44
        }
      ]
    },
    {
      "cell_type": "code",
      "source": [
        "# Converting dictionary to a dataframe\n",
        "cleaned_df = pd.DataFrame({\"Disease\":cleaned_dict.keys(),\"Treatments\":cleaned_dict.values()})\n",
        "cleaned_df.head()"
      ],
      "metadata": {
        "colab": {
          "base_uri": "https://localhost:8080/",
          "height": 206
        },
        "id": "J9GHbFmoqk-O",
        "outputId": "1168a27b-f376-4490-fda5-7c75b282d780"
      },
      "execution_count": 45,
      "outputs": [
        {
          "output_type": "execute_result",
          "data": {
            "text/plain": [
              "                                             Disease  \\\n",
              "0                                      breast cancer   \n",
              "1                                    prostate cancer   \n",
              "2                          hereditary retinoblastoma   \n",
              "3  unstable angina or non-q-wave myocardial infar...   \n",
              "4                            coronary-artery disease   \n",
              "\n",
              "                                          Treatments  \n",
              "0  [hormone replacement therapy, undergone subcut...  \n",
              "1  [radical prostatectomy and iodine 125 intersti...  \n",
              "2                                     [radiotherapy]  \n",
              "3                                    [roxithromycin]  \n",
              "4                       [antichlamydial antibiotics]  "
            ],
            "text/html": [
              "\n",
              "  <div id=\"df-ebd4b681-4621-4f85-8620-d953317dfc00\" class=\"colab-df-container\">\n",
              "    <div>\n",
              "<style scoped>\n",
              "    .dataframe tbody tr th:only-of-type {\n",
              "        vertical-align: middle;\n",
              "    }\n",
              "\n",
              "    .dataframe tbody tr th {\n",
              "        vertical-align: top;\n",
              "    }\n",
              "\n",
              "    .dataframe thead th {\n",
              "        text-align: right;\n",
              "    }\n",
              "</style>\n",
              "<table border=\"1\" class=\"dataframe\">\n",
              "  <thead>\n",
              "    <tr style=\"text-align: right;\">\n",
              "      <th></th>\n",
              "      <th>Disease</th>\n",
              "      <th>Treatments</th>\n",
              "    </tr>\n",
              "  </thead>\n",
              "  <tbody>\n",
              "    <tr>\n",
              "      <th>0</th>\n",
              "      <td>breast cancer</td>\n",
              "      <td>[hormone replacement therapy, undergone subcut...</td>\n",
              "    </tr>\n",
              "    <tr>\n",
              "      <th>1</th>\n",
              "      <td>prostate cancer</td>\n",
              "      <td>[radical prostatectomy and iodine 125 intersti...</td>\n",
              "    </tr>\n",
              "    <tr>\n",
              "      <th>2</th>\n",
              "      <td>hereditary retinoblastoma</td>\n",
              "      <td>[radiotherapy]</td>\n",
              "    </tr>\n",
              "    <tr>\n",
              "      <th>3</th>\n",
              "      <td>unstable angina or non-q-wave myocardial infar...</td>\n",
              "      <td>[roxithromycin]</td>\n",
              "    </tr>\n",
              "    <tr>\n",
              "      <th>4</th>\n",
              "      <td>coronary-artery disease</td>\n",
              "      <td>[antichlamydial antibiotics]</td>\n",
              "    </tr>\n",
              "  </tbody>\n",
              "</table>\n",
              "</div>\n",
              "    <div class=\"colab-df-buttons\">\n",
              "\n",
              "  <div class=\"colab-df-container\">\n",
              "    <button class=\"colab-df-convert\" onclick=\"convertToInteractive('df-ebd4b681-4621-4f85-8620-d953317dfc00')\"\n",
              "            title=\"Convert this dataframe to an interactive table.\"\n",
              "            style=\"display:none;\">\n",
              "\n",
              "  <svg xmlns=\"http://www.w3.org/2000/svg\" height=\"24px\" viewBox=\"0 -960 960 960\">\n",
              "    <path d=\"M120-120v-720h720v720H120Zm60-500h600v-160H180v160Zm220 220h160v-160H400v160Zm0 220h160v-160H400v160ZM180-400h160v-160H180v160Zm440 0h160v-160H620v160ZM180-180h160v-160H180v160Zm440 0h160v-160H620v160Z\"/>\n",
              "  </svg>\n",
              "    </button>\n",
              "\n",
              "  <style>\n",
              "    .colab-df-container {\n",
              "      display:flex;\n",
              "      gap: 12px;\n",
              "    }\n",
              "\n",
              "    .colab-df-convert {\n",
              "      background-color: #E8F0FE;\n",
              "      border: none;\n",
              "      border-radius: 50%;\n",
              "      cursor: pointer;\n",
              "      display: none;\n",
              "      fill: #1967D2;\n",
              "      height: 32px;\n",
              "      padding: 0 0 0 0;\n",
              "      width: 32px;\n",
              "    }\n",
              "\n",
              "    .colab-df-convert:hover {\n",
              "      background-color: #E2EBFA;\n",
              "      box-shadow: 0px 1px 2px rgba(60, 64, 67, 0.3), 0px 1px 3px 1px rgba(60, 64, 67, 0.15);\n",
              "      fill: #174EA6;\n",
              "    }\n",
              "\n",
              "    .colab-df-buttons div {\n",
              "      margin-bottom: 4px;\n",
              "    }\n",
              "\n",
              "    [theme=dark] .colab-df-convert {\n",
              "      background-color: #3B4455;\n",
              "      fill: #D2E3FC;\n",
              "    }\n",
              "\n",
              "    [theme=dark] .colab-df-convert:hover {\n",
              "      background-color: #434B5C;\n",
              "      box-shadow: 0px 1px 3px 1px rgba(0, 0, 0, 0.15);\n",
              "      filter: drop-shadow(0px 1px 2px rgba(0, 0, 0, 0.3));\n",
              "      fill: #FFFFFF;\n",
              "    }\n",
              "  </style>\n",
              "\n",
              "    <script>\n",
              "      const buttonEl =\n",
              "        document.querySelector('#df-ebd4b681-4621-4f85-8620-d953317dfc00 button.colab-df-convert');\n",
              "      buttonEl.style.display =\n",
              "        google.colab.kernel.accessAllowed ? 'block' : 'none';\n",
              "\n",
              "      async function convertToInteractive(key) {\n",
              "        const element = document.querySelector('#df-ebd4b681-4621-4f85-8620-d953317dfc00');\n",
              "        const dataTable =\n",
              "          await google.colab.kernel.invokeFunction('convertToInteractive',\n",
              "                                                    [key], {});\n",
              "        if (!dataTable) return;\n",
              "\n",
              "        const docLinkHtml = 'Like what you see? Visit the ' +\n",
              "          '<a target=\"_blank\" href=https://colab.research.google.com/notebooks/data_table.ipynb>data table notebook</a>'\n",
              "          + ' to learn more about interactive tables.';\n",
              "        element.innerHTML = '';\n",
              "        dataTable['output_type'] = 'display_data';\n",
              "        await google.colab.output.renderOutput(dataTable, element);\n",
              "        const docLink = document.createElement('div');\n",
              "        docLink.innerHTML = docLinkHtml;\n",
              "        element.appendChild(docLink);\n",
              "      }\n",
              "    </script>\n",
              "  </div>\n",
              "\n",
              "\n",
              "<div id=\"df-43c0f560-c025-4ffc-99e1-16d03443f2ac\">\n",
              "  <button class=\"colab-df-quickchart\" onclick=\"quickchart('df-43c0f560-c025-4ffc-99e1-16d03443f2ac')\"\n",
              "            title=\"Suggest charts\"\n",
              "            style=\"display:none;\">\n",
              "\n",
              "<svg xmlns=\"http://www.w3.org/2000/svg\" height=\"24px\"viewBox=\"0 0 24 24\"\n",
              "     width=\"24px\">\n",
              "    <g>\n",
              "        <path d=\"M19 3H5c-1.1 0-2 .9-2 2v14c0 1.1.9 2 2 2h14c1.1 0 2-.9 2-2V5c0-1.1-.9-2-2-2zM9 17H7v-7h2v7zm4 0h-2V7h2v10zm4 0h-2v-4h2v4z\"/>\n",
              "    </g>\n",
              "</svg>\n",
              "  </button>\n",
              "\n",
              "<style>\n",
              "  .colab-df-quickchart {\n",
              "      --bg-color: #E8F0FE;\n",
              "      --fill-color: #1967D2;\n",
              "      --hover-bg-color: #E2EBFA;\n",
              "      --hover-fill-color: #174EA6;\n",
              "      --disabled-fill-color: #AAA;\n",
              "      --disabled-bg-color: #DDD;\n",
              "  }\n",
              "\n",
              "  [theme=dark] .colab-df-quickchart {\n",
              "      --bg-color: #3B4455;\n",
              "      --fill-color: #D2E3FC;\n",
              "      --hover-bg-color: #434B5C;\n",
              "      --hover-fill-color: #FFFFFF;\n",
              "      --disabled-bg-color: #3B4455;\n",
              "      --disabled-fill-color: #666;\n",
              "  }\n",
              "\n",
              "  .colab-df-quickchart {\n",
              "    background-color: var(--bg-color);\n",
              "    border: none;\n",
              "    border-radius: 50%;\n",
              "    cursor: pointer;\n",
              "    display: none;\n",
              "    fill: var(--fill-color);\n",
              "    height: 32px;\n",
              "    padding: 0;\n",
              "    width: 32px;\n",
              "  }\n",
              "\n",
              "  .colab-df-quickchart:hover {\n",
              "    background-color: var(--hover-bg-color);\n",
              "    box-shadow: 0 1px 2px rgba(60, 64, 67, 0.3), 0 1px 3px 1px rgba(60, 64, 67, 0.15);\n",
              "    fill: var(--button-hover-fill-color);\n",
              "  }\n",
              "\n",
              "  .colab-df-quickchart-complete:disabled,\n",
              "  .colab-df-quickchart-complete:disabled:hover {\n",
              "    background-color: var(--disabled-bg-color);\n",
              "    fill: var(--disabled-fill-color);\n",
              "    box-shadow: none;\n",
              "  }\n",
              "\n",
              "  .colab-df-spinner {\n",
              "    border: 2px solid var(--fill-color);\n",
              "    border-color: transparent;\n",
              "    border-bottom-color: var(--fill-color);\n",
              "    animation:\n",
              "      spin 1s steps(1) infinite;\n",
              "  }\n",
              "\n",
              "  @keyframes spin {\n",
              "    0% {\n",
              "      border-color: transparent;\n",
              "      border-bottom-color: var(--fill-color);\n",
              "      border-left-color: var(--fill-color);\n",
              "    }\n",
              "    20% {\n",
              "      border-color: transparent;\n",
              "      border-left-color: var(--fill-color);\n",
              "      border-top-color: var(--fill-color);\n",
              "    }\n",
              "    30% {\n",
              "      border-color: transparent;\n",
              "      border-left-color: var(--fill-color);\n",
              "      border-top-color: var(--fill-color);\n",
              "      border-right-color: var(--fill-color);\n",
              "    }\n",
              "    40% {\n",
              "      border-color: transparent;\n",
              "      border-right-color: var(--fill-color);\n",
              "      border-top-color: var(--fill-color);\n",
              "    }\n",
              "    60% {\n",
              "      border-color: transparent;\n",
              "      border-right-color: var(--fill-color);\n",
              "    }\n",
              "    80% {\n",
              "      border-color: transparent;\n",
              "      border-right-color: var(--fill-color);\n",
              "      border-bottom-color: var(--fill-color);\n",
              "    }\n",
              "    90% {\n",
              "      border-color: transparent;\n",
              "      border-bottom-color: var(--fill-color);\n",
              "    }\n",
              "  }\n",
              "</style>\n",
              "\n",
              "  <script>\n",
              "    async function quickchart(key) {\n",
              "      const quickchartButtonEl =\n",
              "        document.querySelector('#' + key + ' button');\n",
              "      quickchartButtonEl.disabled = true;  // To prevent multiple clicks.\n",
              "      quickchartButtonEl.classList.add('colab-df-spinner');\n",
              "      try {\n",
              "        const charts = await google.colab.kernel.invokeFunction(\n",
              "            'suggestCharts', [key], {});\n",
              "      } catch (error) {\n",
              "        console.error('Error during call to suggestCharts:', error);\n",
              "      }\n",
              "      quickchartButtonEl.classList.remove('colab-df-spinner');\n",
              "      quickchartButtonEl.classList.add('colab-df-quickchart-complete');\n",
              "    }\n",
              "    (() => {\n",
              "      let quickchartButtonEl =\n",
              "        document.querySelector('#df-43c0f560-c025-4ffc-99e1-16d03443f2ac button');\n",
              "      quickchartButtonEl.style.display =\n",
              "        google.colab.kernel.accessAllowed ? 'block' : 'none';\n",
              "    })();\n",
              "  </script>\n",
              "</div>\n",
              "\n",
              "    </div>\n",
              "  </div>\n"
            ],
            "application/vnd.google.colaboratory.intrinsic+json": {
              "type": "dataframe",
              "variable_name": "cleaned_df",
              "summary": "{\n  \"name\": \"cleaned_df\",\n  \"rows\": 107,\n  \"fields\": [\n    {\n      \"column\": \"Disease\",\n      \"properties\": {\n        \"dtype\": \"string\",\n        \"num_unique_values\": 107,\n        \"samples\": [\n          \"persistent asthma\",\n          \"sore throat\",\n          \"coronary-artery disease\"\n        ],\n        \"semantic_type\": \"\",\n        \"description\": \"\"\n      }\n    },\n    {\n      \"column\": \"Treatments\",\n      \"properties\": {\n        \"dtype\": \"object\",\n        \"semantic_type\": \"\",\n        \"description\": \"\"\n      }\n    }\n  ]\n}"
            }
          },
          "metadata": {},
          "execution_count": 45
        }
      ]
    },
    {
      "cell_type": "code",
      "source": [
        "search_item = 'hereditary retinoblastoma'\n",
        "treatments = cleaned_dict[search_item]\n",
        "print(\"Treatments for '{0}' is/are \".format(search_item), end = \"\")\n",
        "for i in range(len(treatments)-1):\n",
        "    print(\"'{}'\".format(treatments[i]),\",\", end=\"\")\n",
        "print(\"'{}'\".format(treatments[-1]))"
      ],
      "metadata": {
        "colab": {
          "base_uri": "https://localhost:8080/"
        },
        "id": "lqY1OLf2qlyS",
        "outputId": "4c26e122-6892-4c8e-b251-4ca09f17372e"
      },
      "execution_count": 46,
      "outputs": [
        {
          "output_type": "stream",
          "name": "stdout",
          "text": [
            "Treatments for 'hereditary retinoblastoma' is/are 'radiotherapy'\n"
          ]
        }
      ]
    }
  ]
}